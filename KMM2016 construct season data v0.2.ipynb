{
 "cells": [
  {
   "cell_type": "markdown",
   "metadata": {},
   "source": [
    "# March Madness 2016 Kaggle data"
   ]
  },
  {
   "cell_type": "code",
   "execution_count": 3,
   "metadata": {
    "collapsed": true
   },
   "outputs": [],
   "source": [
    "import os,sys\n",
    "import pandas as pd\n",
    "import numpy as np\n",
    "import matplotlib.pyplot as plt\n",
    "%matplotlib inline\n",
    "import seaborn as sns"
   ]
  },
  {
   "cell_type": "code",
   "execution_count": 4,
   "metadata": {
    "collapsed": true
   },
   "outputs": [],
   "source": [
    "data_dir = 'C:/Users/kesj/data/kaggle/march-machine-learning-mania-2016-v2/'"
   ]
  },
  {
   "cell_type": "code",
   "execution_count": 5,
   "metadata": {
    "collapsed": true
   },
   "outputs": [],
   "source": [
    "os.chdir(data_dir)\n",
    "from glob import glob"
   ]
  },
  {
   "cell_type": "markdown",
   "metadata": {},
   "source": [
    "## Start to parse the files\n",
    "1. read in the regularseason compact results\n",
    "2. define the list of years possible\n",
    "3. pivot this to the teams (for a given year)\n",
    "4. construct the various regular season features for each season"
   ]
  },
  {
   "cell_type": "code",
   "execution_count": 6,
   "metadata": {
    "collapsed": true
   },
   "outputs": [],
   "source": [
    "# helper functions\n",
    "\n",
    "def calc_adjusted_win_losses(locations,my_class='win'):\n",
    "    \n",
    "    if my_class == 'win':\n",
    "        multiplier = {'N':1,'A':1.4,'H':0.6}\n",
    "    else:\n",
    "        multiplier = {'N':1,'A':0.6,'H':1.4}\n",
    "        \n",
    "    adjust_count = 0\n",
    "    for k,v in locations.items():\n",
    "        adjust_count += v*multiplier[k]\n",
    "\n",
    "    return adjust_count\n",
    "    \n",
    "def calc_win_losses(summarydf,team_id,my_season,verbose=False):\n",
    "    wins = summarydf[(summarydf['Season']==my_season) & (summarydf['Wteam']==team_id)]\n",
    "    loss = summarydf[(summarydf['Season']==my_season) & (summarydf['Lteam']==team_id)]\n",
    "    nwins = len(wins)\n",
    "    nloss = len(loss)\n",
    "    # also want to count adj wins \n",
    "    # if home win: 0.6, if away win: 1.4, if neutral 1\n",
    "    # if home loss: 1.4 if away loss: 0.6, if neutral 1\n",
    "    win_loc = wins.Wloc.value_counts().to_dict()\n",
    "    loss_loc = loss.Wloc.value_counts().to_dict()\n",
    "    adj_wins = calc_adjusted_win_losses(win_loc)\n",
    "    adj_loss = calc_adjusted_win_losses(loss_loc,'loss')\n",
    "    if verbose:\n",
    "        print(\"{0}-{1} adjusted to {2}-{3}\".format(nwins,nloss,adj_wins,adj_loss))\n",
    "    #print(\"adjusted\")\n",
    "    #print(\"{0}-{1}\".format(adj_wins,adj_loss))\n",
    "    return nwins,nloss,adj_wins,adj_loss"
   ]
  },
  {
   "cell_type": "code",
   "execution_count": 7,
   "metadata": {
    "collapsed": true
   },
   "outputs": [],
   "source": [
    "def calc_win_pct(w,l):\n",
    "    wpct = w/(w+l)\n",
    "    return wpct\n",
    "\n",
    "def calc_ppg(reg_season,season,team_id,col='score'):\n",
    "    #if col_attrib == 'score':\n",
    "    wcol = 'W'+col\n",
    "    lcol = 'L'+col\n",
    "    \n",
    "    wins = reg_season[(reg_season.Season==season)&(reg_season.Wteam==team_id)]\n",
    "    loss = reg_season[(reg_season.Season==season)&(reg_season.Lteam==team_id)]\n",
    "    win_sum = wins[wcol].sum()\n",
    "    win_mean = wins[wcol].mean()\n",
    "    loss_sum = loss[lcol].sum()\n",
    "    loss_mean = loss[lcol].mean()\n",
    "    \n",
    "    opp_sum = wins[lcol].sum()+loss[wcol].sum()\n",
    "    ngames = len(wins)+len(loss)\n",
    "    #if col =='score':\n",
    "    total_pts=win_sum+loss_sum\n",
    "    ppg = total_pts/ngames\n",
    "    opp_ppg = opp_sum/ngames\n",
    "    return(ppg,opp_ppg)"
   ]
  },
  {
   "cell_type": "code",
   "execution_count": 8,
   "metadata": {
    "collapsed": true
   },
   "outputs": [],
   "source": [
    "def get_list_of_opponents(reg_season_df,team_id,verbose=False):\n",
    "    loosing_opponents=reg_season_df[reg_season_df['Wteam']==team_id].Lteam.tolist()\n",
    "    winning_opponents = reg_season_df[reg_season_df['Lteam']==team_id].Wteam.tolist()\n",
    "    if verbose:\n",
    "        print(loosing_opponents,winning_opponents)\n",
    "    return(loosing_opponents,winning_opponents)\n"
   ]
  },
  {
   "cell_type": "code",
   "execution_count": 9,
   "metadata": {
    "collapsed": false
   },
   "outputs": [],
   "source": [
    "def calc_owin_pct(reg_season,teams,team_id,season_id=2015):\n",
    "    lopponents,wopponents = get_list_of_opponents(reg_season[reg_season.Season==season_id],team_id)\n",
    "    owins = []\n",
    "    # loop through those who you beat\n",
    "    for teamid in lopponents:\n",
    "        #print(teamid,t2015[t2015.Team_Id==teamid][['W','L','WP']])\n",
    "        try:\n",
    "            w = teams[teams.Team_Id==teamid].W.values[0]\n",
    "            l = teams[teams.Team_Id==teamid].L.values[0]-1 # because this oppponent lost to YOU\n",
    "            owp = calc_win_pct(w,l)\n",
    "            owins.append(owp)\n",
    "        except IndexError:\n",
    "            pass # skip over teams that aren't in that year (probably not Division 1)\n",
    "    # loop through those who you lost to\n",
    "    for teamid in wopponents:\n",
    "        try:\n",
    "            #print(teamid,t2015[t2015.Team_Id==teamid][['W','L','WP']])\n",
    "            w = teams[teams.Team_Id==teamid].W.values[0]-1 # because this oppponent beat to YOU\n",
    "            l = teams[teams.Team_Id==teamid].L.values[0]\n",
    "            owp = calc_win_pct(w,l)\n",
    "            owins.append(owp)\n",
    "        except IndexErorr:\n",
    "            pass \n",
    "    #print(\"number of opponents is {0}\".format(len(lopponents)+len(wopponents)))\n",
    "    #print(len(owins))\n",
    "    avg_owins = np.mean(owins)\n",
    "    return(avg_owins)\n",
    "    \n",
    "def calc_opp_owin_pct(reg_season,teams,team_id,season_id=2015):\n",
    "    lopponents,wopponents = get_list_of_opponents(reg_season[reg_season.Season==season_id],team_id)\n",
    "    oowins = []\n",
    "    #append these two lists\n",
    "    opponents = lopponents\n",
    "    opponents+=wopponents\n",
    "    # loop through those who you beat\n",
    "    for teamid in opponents:\n",
    "        #print(teamid,t2015[t2015.Team_Id==teamid][['W','L','WP']])\n",
    "        try:\n",
    "            owp = teams[teams.Team_Id==teamid].OWP.values[0]\n",
    "            oowins.append(owp)\n",
    "        except IndexError:\n",
    "            pass # skip over teams that aren't in that year (probably not Division 1)\n",
    "    oowpct = np.mean(oowins)\n",
    "    return(oowpct)"
   ]
  },
  {
   "cell_type": "code",
   "execution_count": 10,
   "metadata": {
    "collapsed": true
   },
   "outputs": [],
   "source": [
    "def calc_rpi(wp,owp,oowp):\n",
    "    fracs = [0.25,0.5,0.25] # allows you to adjust in one place\n",
    "    rpi = fracs[0]*wp+fracs[1]*owp+fracs[2]*oowp\n",
    "    return(rpi)"
   ]
  },
  {
   "cell_type": "markdown",
   "metadata": {},
   "source": [
    "### Regular Season Compact results\n",
    "\n"
   ]
  },
  {
   "cell_type": "code",
   "execution_count": 11,
   "metadata": {
    "collapsed": false
   },
   "outputs": [
    {
     "data": {
      "text/plain": [
       "(145289, 8)"
      ]
     },
     "execution_count": 11,
     "metadata": {},
     "output_type": "execute_result"
    }
   ],
   "source": [
    "reg_season_comp= pd.read_csv('RegularSeasonCompactResults.csv')\n",
    "reg_season_comp.shape"
   ]
  },
  {
   "cell_type": "code",
   "execution_count": 12,
   "metadata": {
    "collapsed": false
   },
   "outputs": [],
   "source": [
    "season_years=reg_season_comp.Season.unique().tolist()"
   ]
  },
  {
   "cell_type": "markdown",
   "metadata": {},
   "source": [
    "### Teams file"
   ]
  },
  {
   "cell_type": "code",
   "execution_count": 13,
   "metadata": {
    "collapsed": false
   },
   "outputs": [
    {
     "data": {
      "text/plain": [
       "(364, 2)"
      ]
     },
     "execution_count": 13,
     "metadata": {},
     "output_type": "execute_result"
    }
   ],
   "source": [
    "all_teams = pd.read_csv('Teams.csv')\n",
    "all_teams.shape"
   ]
  },
  {
   "cell_type": "markdown",
   "metadata": {},
   "source": [
    "### helper function to get the team_id of a particualr team"
   ]
  },
  {
   "cell_type": "code",
   "execution_count": 14,
   "metadata": {
    "collapsed": false
   },
   "outputs": [],
   "source": [
    "def return_team_id(teams,team_name):\n",
    "    ## some simple parsing things\n",
    "    if team_name.endswith('.'):\n",
    "        team_name=team_name[:-1] # reset\n",
    "    try:\n",
    "        tid = teams[teams.Team_Name==team_name].Team_Id.values[0]\n",
    "    except IndexError:\n",
    "        print(\"Sorry {0} not found in this listing\".format(team_name))\n",
    "        tid = 0\n",
    "    return tid"
   ]
  },
  {
   "cell_type": "code",
   "execution_count": 15,
   "metadata": {
    "collapsed": false
   },
   "outputs": [],
   "source": [
    "#return_team_id(all_teams,'Gonzaga')"
   ]
  },
  {
   "cell_type": "code",
   "execution_count": 16,
   "metadata": {
    "collapsed": false
   },
   "outputs": [],
   "source": [
    "def yield_region_seed(tournseed,tid,season):\n",
    "    #sval = 'omit'\n",
    "    region_dict = {'W':1,'X':2,'Y':3,'Z':4}\n",
    "    try:\n",
    "        sval = tournseed[(tournseed.Season==season)&(tournseed.Team==tid)].Seed.values[0]\n",
    "        region = region_dict[sval[0]]\n",
    "        seed = sval[1:]\n",
    "    except IndexError:\n",
    "        region = 0\n",
    "        seed = 'None'\n",
    "        \n",
    "    return (region,seed)\n",
    "    "
   ]
  },
  {
   "cell_type": "code",
   "execution_count": 21,
   "metadata": {
    "collapsed": false
   },
   "outputs": [],
   "source": [
    "def construct_team_values(teams,regseason,season, verbose=True):\n",
    "    #pull out for that season\n",
    "    #rs= regseason[regseason['Season']==season]#.copy()\n",
    "    #wteamids = set(rs.Wteam.values.tolist())\n",
    "    #lteamids = set(rs.Lteam.values.tolist())\n",
    "    wteamids =set(regseason[regseason.Season==season].Wteam.tolist())\n",
    "    lteamids =set(regseason[regseason.Season==season].Lteam.tolist())\n",
    "    teamids = list(wteamids.union(lteamids))\n",
    "    if verbose:\n",
    "        print(\"Season {0} had {1} games involving {2} unique teams.\"\n",
    "              .format(season, len(regseason[regseason.Season==season]),len(teamids)))\n",
    "        \n",
    "    ## get the teams for a given season\n",
    "    rs_teams = teams[teams.Team_Id.isin(teamids)].copy()\n",
    "    ## loop through team ids to calcuate wins & losses\n",
    "    tallies = []\n",
    "    for tid in teamids:\n",
    "        w,l,aw,al = calc_win_losses(regseason,tid,season)\n",
    "        ppgvals = calc_ppg(regseason,season,tid)\n",
    "        new_row = [tid,w,l,aw,al,ppgvals[0],ppgvals[1]]\n",
    "        tallies.append(new_row)\n",
    "    # merge this with rs_teams\n",
    "    rs_teams=rs_teams.merge(pd.DataFrame(tallies,columns=['Team_Id','W','L','aW','aL','PPG','OppPPG']),on='Team_Id')\n",
    "    ## calculate the win pct and adjusted win pct\n",
    "    rs_teams['WP'] = rs_teams[['W','L']].apply(lambda x: calc_win_pct(x[0],x[1]),axis=1)#/(x[0]+x[1]),axis=1)\n",
    "    rs_teams['aWP']= rs_teams[['aW','aL']].apply(lambda x: calc_win_pct(x[0],x[1]),axis=1)#/(x[0]+x[1]),axis=1)\n",
    "    \n",
    "    ## calculate OWP\n",
    "    owp_tallies = []\n",
    "    for tid in teamids:#[:10]:\n",
    "        avg_owp = calc_owin_pct(regseason,rs_teams,tid,season)\n",
    "        new_row = [tid,avg_owp]\n",
    "        owp_tallies.append(new_row)\n",
    "    \n",
    "    rs_teams=rs_teams.merge(pd.DataFrame(owp_tallies, columns =['Team_Id','OWP']),on='Team_Id')\n",
    "    \n",
    "    ## calculate OOWP\n",
    "    owp_tallies2 = []\n",
    "    # add in info about if they are in the tourney (use their seed #)\n",
    "    #tourney_seeding =[]\n",
    "    \n",
    "    for tid in teamids:\n",
    "        oowpct = calc_opp_owin_pct(regseason,rs_teams,tid,season)\n",
    "        new_row = [tid,oowpct]\n",
    "        owp_tallies2.append(new_row)\n",
    "        #reg,seed = yield_region_seed(tourney_seeds,tid,season)\n",
    "        #tourney_seeding.append([tid,reg,seed])\n",
    "        \n",
    "    rs_teams= rs_teams.merge(pd.DataFrame(owp_tallies2,columns=['Team_Id','OOWP']),on='Team_Id')\n",
    "    #rs_teams = rs_teams.merge(pd.DataFrame(tourney_seeding,columns=['Team_Id','Region','Seed']),on='Team_Id')\n",
    "    \n",
    "    # now calculate RPI and avg score margin\n",
    "    rs_teams['RPI'] = rs_teams[['aWP','OWP','OOWP']].apply(lambda x: calc_rpi(x[0],x[1],x[2]),axis=1)\n",
    "    \n",
    "    # calculate avg score margin\n",
    "    rs_teams['scoreMargin']=rs_teams['PPG']-rs_teams['OppPPG']\n",
    "\n",
    "    \n",
    "    return rs_teams\n",
    "    "
   ]
  },
  {
   "cell_type": "code",
   "execution_count": null,
   "metadata": {
    "collapsed": false
   },
   "outputs": [],
   "source": [
    "#tourney_seeds = pd.read_csv('TourneySeeds.csv')\n",
    "#tourney_seeds.head()"
   ]
  },
  {
   "cell_type": "code",
   "execution_count": 18,
   "metadata": {
    "collapsed": true
   },
   "outputs": [],
   "source": [
    "def get_pct(x,rseason_teams,tfeature='WP'):\n",
    "    tid = x\n",
    "    wp = rseason_teams[rseason_teams['Team_Id']==tid][tfeature].values[0]\n",
    "    return wp"
   ]
  },
  {
   "cell_type": "markdown",
   "metadata": {},
   "source": [
    "## REGIONAL alignments\n",
    "* 'W' plays 'X' \n",
    "    * 'W' is first alphabeticall\n",
    "* 'Y' plays 'Z'\n",
    "    * \"Y\" is first alphabetical out of these two\n",
    "    \n",
    "* I'm going to map them onto ints so that W->1, X->2, Y->3, Z->4\n"
   ]
  },
  {
   "cell_type": "code",
   "execution_count": 22,
   "metadata": {
    "collapsed": false
   },
   "outputs": [
    {
     "name": "stdout",
     "output_type": "stream",
     "text": [
      "Season 2015 had 5354 games involving 351 unique teams.\n"
     ]
    }
   ],
   "source": [
    "rs2015 = construct_team_values(all_teams,reg_season_comp,2015)"
   ]
  },
  {
   "cell_type": "code",
   "execution_count": 23,
   "metadata": {
    "collapsed": false
   },
   "outputs": [
    {
     "name": "stdout",
     "output_type": "stream",
     "text": [
      "Season 2014 had 5362 games involving 351 unique teams.\n"
     ]
    }
   ],
   "source": [
    "rs2014 = construct_team_values(all_teams,reg_season_comp,2014)"
   ]
  },
  {
   "cell_type": "code",
   "execution_count": 24,
   "metadata": {
    "collapsed": false
   },
   "outputs": [
    {
     "data": {
      "text/html": [
       "<div>\n",
       "<table border=\"1\" class=\"dataframe\">\n",
       "  <thead>\n",
       "    <tr style=\"text-align: right;\">\n",
       "      <th></th>\n",
       "      <th>Team_Id</th>\n",
       "      <th>Team_Name</th>\n",
       "      <th>W</th>\n",
       "      <th>L</th>\n",
       "      <th>aW</th>\n",
       "      <th>aL</th>\n",
       "      <th>PPG</th>\n",
       "      <th>OppPPG</th>\n",
       "      <th>WP</th>\n",
       "      <th>aWP</th>\n",
       "      <th>OWP</th>\n",
       "      <th>OOWP</th>\n",
       "      <th>RPI</th>\n",
       "      <th>scoreMargin</th>\n",
       "    </tr>\n",
       "  </thead>\n",
       "  <tbody>\n",
       "    <tr>\n",
       "      <th>0</th>\n",
       "      <td>1101</td>\n",
       "      <td>Abilene Chr</td>\n",
       "      <td>7</td>\n",
       "      <td>21</td>\n",
       "      <td>5.8</td>\n",
       "      <td>24.2</td>\n",
       "      <td>61.000000</td>\n",
       "      <td>71.857143</td>\n",
       "      <td>0.250000</td>\n",
       "      <td>0.193333</td>\n",
       "      <td>0.463433</td>\n",
       "      <td>0.461547</td>\n",
       "      <td>0.395437</td>\n",
       "      <td>-10.857143</td>\n",
       "    </tr>\n",
       "    <tr>\n",
       "      <th>1</th>\n",
       "      <td>1102</td>\n",
       "      <td>Air Force</td>\n",
       "      <td>12</td>\n",
       "      <td>17</td>\n",
       "      <td>8.8</td>\n",
       "      <td>19.4</td>\n",
       "      <td>64.724138</td>\n",
       "      <td>65.862069</td>\n",
       "      <td>0.413793</td>\n",
       "      <td>0.312057</td>\n",
       "      <td>0.486745</td>\n",
       "      <td>0.497768</td>\n",
       "      <td>0.445829</td>\n",
       "      <td>-1.137931</td>\n",
       "    </tr>\n",
       "    <tr>\n",
       "      <th>2</th>\n",
       "      <td>1103</td>\n",
       "      <td>Akron</td>\n",
       "      <td>20</td>\n",
       "      <td>14</td>\n",
       "      <td>15.2</td>\n",
       "      <td>16.4</td>\n",
       "      <td>67.352941</td>\n",
       "      <td>63.235294</td>\n",
       "      <td>0.588235</td>\n",
       "      <td>0.481013</td>\n",
       "      <td>0.511210</td>\n",
       "      <td>0.506309</td>\n",
       "      <td>0.502436</td>\n",
       "      <td>4.117647</td>\n",
       "    </tr>\n",
       "    <tr>\n",
       "      <th>3</th>\n",
       "      <td>1104</td>\n",
       "      <td>Alabama</td>\n",
       "      <td>17</td>\n",
       "      <td>14</td>\n",
       "      <td>13.8</td>\n",
       "      <td>14.8</td>\n",
       "      <td>66.645161</td>\n",
       "      <td>64.516129</td>\n",
       "      <td>0.548387</td>\n",
       "      <td>0.482517</td>\n",
       "      <td>0.559389</td>\n",
       "      <td>0.542103</td>\n",
       "      <td>0.535850</td>\n",
       "      <td>2.129032</td>\n",
       "    </tr>\n",
       "    <tr>\n",
       "      <th>4</th>\n",
       "      <td>1105</td>\n",
       "      <td>Alabama A&amp;M</td>\n",
       "      <td>8</td>\n",
       "      <td>20</td>\n",
       "      <td>8.8</td>\n",
       "      <td>22.0</td>\n",
       "      <td>61.285714</td>\n",
       "      <td>68.714286</td>\n",
       "      <td>0.285714</td>\n",
       "      <td>0.285714</td>\n",
       "      <td>0.407572</td>\n",
       "      <td>0.445021</td>\n",
       "      <td>0.386470</td>\n",
       "      <td>-7.428571</td>\n",
       "    </tr>\n",
       "  </tbody>\n",
       "</table>\n",
       "</div>"
      ],
      "text/plain": [
       "   Team_Id    Team_Name   W   L    aW    aL        PPG     OppPPG        WP  \\\n",
       "0     1101  Abilene Chr   7  21   5.8  24.2  61.000000  71.857143  0.250000   \n",
       "1     1102    Air Force  12  17   8.8  19.4  64.724138  65.862069  0.413793   \n",
       "2     1103        Akron  20  14  15.2  16.4  67.352941  63.235294  0.588235   \n",
       "3     1104      Alabama  17  14  13.8  14.8  66.645161  64.516129  0.548387   \n",
       "4     1105  Alabama A&M   8  20   8.8  22.0  61.285714  68.714286  0.285714   \n",
       "\n",
       "        aWP       OWP      OOWP       RPI  scoreMargin  \n",
       "0  0.193333  0.463433  0.461547  0.395437   -10.857143  \n",
       "1  0.312057  0.486745  0.497768  0.445829    -1.137931  \n",
       "2  0.481013  0.511210  0.506309  0.502436     4.117647  \n",
       "3  0.482517  0.559389  0.542103  0.535850     2.129032  \n",
       "4  0.285714  0.407572  0.445021  0.386470    -7.428571  "
      ]
     },
     "execution_count": 24,
     "metadata": {},
     "output_type": "execute_result"
    }
   ],
   "source": [
    "rs2015.head()"
   ]
  },
  {
   "cell_type": "code",
   "execution_count": 25,
   "metadata": {
    "collapsed": false
   },
   "outputs": [
    {
     "name": "stdout",
     "output_type": "stream",
     "text": [
      "Season 2016 had 5369 games involving 351 unique teams.\n"
     ]
    }
   ],
   "source": [
    "rs2016 = construct_team_values(all_teams,reg_season_comp,2016)"
   ]
  },
  {
   "cell_type": "code",
   "execution_count": 26,
   "metadata": {
    "collapsed": false
   },
   "outputs": [
    {
     "name": "stdout",
     "output_type": "stream",
     "text": [
      "Season 2013 had 5320 games involving 347 unique teams.\n"
     ]
    }
   ],
   "source": [
    "rs2013 = construct_team_values(all_teams,reg_season_comp,2013)"
   ]
  },
  {
   "cell_type": "code",
   "execution_count": 27,
   "metadata": {
    "collapsed": false
   },
   "outputs": [
    {
     "name": "stdout",
     "output_type": "stream",
     "text": [
      "Season 2012 had 5253 games involving 345 unique teams.\n"
     ]
    }
   ],
   "source": [
    "rs2012 = construct_team_values(all_teams,reg_season_comp,2012)"
   ]
  },
  {
   "cell_type": "code",
   "execution_count": 29,
   "metadata": {
    "collapsed": false
   },
   "outputs": [
    {
     "name": "stdout",
     "output_type": "stream",
     "text": [
      "Season 2011 had 5246 games involving 345 unique teams.\n"
     ]
    }
   ],
   "source": [
    "rs2011 = construct_team_values(all_teams, reg_season_comp,2011)"
   ]
  },
  {
   "cell_type": "code",
   "execution_count": 30,
   "metadata": {
    "collapsed": false
   },
   "outputs": [
    {
     "name": "stdout",
     "output_type": "stream",
     "text": [
      "Season 2010 had 5263 games involving 347 unique teams.\n"
     ]
    }
   ],
   "source": [
    "rs2010 = construct_team_values(all_teams, reg_season_comp,2010)"
   ]
  },
  {
   "cell_type": "code",
   "execution_count": 35,
   "metadata": {
    "collapsed": false
   },
   "outputs": [
    {
     "data": {
      "text/html": [
       "<div>\n",
       "<table border=\"1\" class=\"dataframe\">\n",
       "  <thead>\n",
       "    <tr style=\"text-align: right;\">\n",
       "      <th></th>\n",
       "      <th>Team_Id</th>\n",
       "      <th>Team_Name</th>\n",
       "      <th>W</th>\n",
       "      <th>L</th>\n",
       "      <th>aW</th>\n",
       "      <th>aL</th>\n",
       "      <th>PPG</th>\n",
       "      <th>OppPPG</th>\n",
       "      <th>WP</th>\n",
       "      <th>aWP</th>\n",
       "      <th>OWP</th>\n",
       "      <th>OOWP</th>\n",
       "      <th>RPI</th>\n",
       "      <th>scoreMargin</th>\n",
       "    </tr>\n",
       "  </thead>\n",
       "  <tbody>\n",
       "    <tr>\n",
       "      <th>0</th>\n",
       "      <td>1102</td>\n",
       "      <td>Air Force</td>\n",
       "      <td>8</td>\n",
       "      <td>21</td>\n",
       "      <td>5.6</td>\n",
       "      <td>21.4</td>\n",
       "      <td>55.620690</td>\n",
       "      <td>62.965517</td>\n",
       "      <td>0.275862</td>\n",
       "      <td>0.207407</td>\n",
       "      <td>0.546063</td>\n",
       "      <td>0.512075</td>\n",
       "      <td>0.452902</td>\n",
       "      <td>-7.344828</td>\n",
       "    </tr>\n",
       "    <tr>\n",
       "      <th>1</th>\n",
       "      <td>1103</td>\n",
       "      <td>Akron</td>\n",
       "      <td>23</td>\n",
       "      <td>10</td>\n",
       "      <td>21.0</td>\n",
       "      <td>10.0</td>\n",
       "      <td>71.030303</td>\n",
       "      <td>66.454545</td>\n",
       "      <td>0.696970</td>\n",
       "      <td>0.677419</td>\n",
       "      <td>0.492794</td>\n",
       "      <td>0.511868</td>\n",
       "      <td>0.543719</td>\n",
       "      <td>4.575758</td>\n",
       "    </tr>\n",
       "    <tr>\n",
       "      <th>2</th>\n",
       "      <td>1104</td>\n",
       "      <td>Alabama</td>\n",
       "      <td>17</td>\n",
       "      <td>15</td>\n",
       "      <td>13.8</td>\n",
       "      <td>15.0</td>\n",
       "      <td>68.500000</td>\n",
       "      <td>64.781250</td>\n",
       "      <td>0.531250</td>\n",
       "      <td>0.479167</td>\n",
       "      <td>0.562605</td>\n",
       "      <td>0.543998</td>\n",
       "      <td>0.537094</td>\n",
       "      <td>3.718750</td>\n",
       "    </tr>\n",
       "    <tr>\n",
       "      <th>3</th>\n",
       "      <td>1105</td>\n",
       "      <td>Alabama A&amp;M</td>\n",
       "      <td>8</td>\n",
       "      <td>15</td>\n",
       "      <td>7.2</td>\n",
       "      <td>17.0</td>\n",
       "      <td>63.826087</td>\n",
       "      <td>70.304348</td>\n",
       "      <td>0.347826</td>\n",
       "      <td>0.297521</td>\n",
       "      <td>0.378100</td>\n",
       "      <td>0.438878</td>\n",
       "      <td>0.373149</td>\n",
       "      <td>-6.478261</td>\n",
       "    </tr>\n",
       "    <tr>\n",
       "      <th>4</th>\n",
       "      <td>1106</td>\n",
       "      <td>Alabama St</td>\n",
       "      <td>13</td>\n",
       "      <td>15</td>\n",
       "      <td>13.0</td>\n",
       "      <td>18.2</td>\n",
       "      <td>64.035714</td>\n",
       "      <td>66.428571</td>\n",
       "      <td>0.464286</td>\n",
       "      <td>0.416667</td>\n",
       "      <td>0.374679</td>\n",
       "      <td>0.450222</td>\n",
       "      <td>0.404062</td>\n",
       "      <td>-2.392857</td>\n",
       "    </tr>\n",
       "    <tr>\n",
       "      <th>5</th>\n",
       "      <td>1107</td>\n",
       "      <td>Albany NY</td>\n",
       "      <td>7</td>\n",
       "      <td>25</td>\n",
       "      <td>6.6</td>\n",
       "      <td>27.4</td>\n",
       "      <td>62.718750</td>\n",
       "      <td>69.125000</td>\n",
       "      <td>0.218750</td>\n",
       "      <td>0.194118</td>\n",
       "      <td>0.489261</td>\n",
       "      <td>0.465365</td>\n",
       "      <td>0.409501</td>\n",
       "      <td>-6.406250</td>\n",
       "    </tr>\n",
       "    <tr>\n",
       "      <th>6</th>\n",
       "      <td>1108</td>\n",
       "      <td>Alcorn St</td>\n",
       "      <td>2</td>\n",
       "      <td>29</td>\n",
       "      <td>1.2</td>\n",
       "      <td>33.0</td>\n",
       "      <td>60.645161</td>\n",
       "      <td>82.000000</td>\n",
       "      <td>0.064516</td>\n",
       "      <td>0.035088</td>\n",
       "      <td>0.452960</td>\n",
       "      <td>0.446165</td>\n",
       "      <td>0.346793</td>\n",
       "      <td>-21.354839</td>\n",
       "    </tr>\n",
       "    <tr>\n",
       "      <th>7</th>\n",
       "      <td>1110</td>\n",
       "      <td>American Univ</td>\n",
       "      <td>11</td>\n",
       "      <td>20</td>\n",
       "      <td>9.8</td>\n",
       "      <td>21.6</td>\n",
       "      <td>62.612903</td>\n",
       "      <td>67.193548</td>\n",
       "      <td>0.354839</td>\n",
       "      <td>0.312102</td>\n",
       "      <td>0.430755</td>\n",
       "      <td>0.469388</td>\n",
       "      <td>0.410750</td>\n",
       "      <td>-4.580645</td>\n",
       "    </tr>\n",
       "    <tr>\n",
       "      <th>8</th>\n",
       "      <td>1111</td>\n",
       "      <td>Appalachian St</td>\n",
       "      <td>20</td>\n",
       "      <td>11</td>\n",
       "      <td>18.4</td>\n",
       "      <td>13.4</td>\n",
       "      <td>73.258065</td>\n",
       "      <td>68.967742</td>\n",
       "      <td>0.645161</td>\n",
       "      <td>0.578616</td>\n",
       "      <td>0.484180</td>\n",
       "      <td>0.492821</td>\n",
       "      <td>0.509950</td>\n",
       "      <td>4.290323</td>\n",
       "    </tr>\n",
       "    <tr>\n",
       "      <th>9</th>\n",
       "      <td>1112</td>\n",
       "      <td>Arizona</td>\n",
       "      <td>16</td>\n",
       "      <td>15</td>\n",
       "      <td>13.2</td>\n",
       "      <td>15.8</td>\n",
       "      <td>71.903226</td>\n",
       "      <td>72.032258</td>\n",
       "      <td>0.516129</td>\n",
       "      <td>0.455172</td>\n",
       "      <td>0.569632</td>\n",
       "      <td>0.539481</td>\n",
       "      <td>0.533480</td>\n",
       "      <td>-0.129032</td>\n",
       "    </tr>\n",
       "    <tr>\n",
       "      <th>10</th>\n",
       "      <td>1113</td>\n",
       "      <td>Arizona St</td>\n",
       "      <td>22</td>\n",
       "      <td>10</td>\n",
       "      <td>17.6</td>\n",
       "      <td>10.8</td>\n",
       "      <td>66.750000</td>\n",
       "      <td>58.468750</td>\n",
       "      <td>0.687500</td>\n",
       "      <td>0.619718</td>\n",
       "      <td>0.541114</td>\n",
       "      <td>0.532289</td>\n",
       "      <td>0.558559</td>\n",
       "      <td>8.281250</td>\n",
       "    </tr>\n",
       "    <tr>\n",
       "      <th>11</th>\n",
       "      <td>1114</td>\n",
       "      <td>Ark Little Rock</td>\n",
       "      <td>6</td>\n",
       "      <td>22</td>\n",
       "      <td>3.6</td>\n",
       "      <td>25.2</td>\n",
       "      <td>66.071429</td>\n",
       "      <td>73.892857</td>\n",
       "      <td>0.214286</td>\n",
       "      <td>0.125000</td>\n",
       "      <td>0.511589</td>\n",
       "      <td>0.478642</td>\n",
       "      <td>0.406705</td>\n",
       "      <td>-7.821429</td>\n",
       "    </tr>\n",
       "    <tr>\n",
       "      <th>12</th>\n",
       "      <td>1115</td>\n",
       "      <td>Ark Pine Bluff</td>\n",
       "      <td>17</td>\n",
       "      <td>15</td>\n",
       "      <td>15.8</td>\n",
       "      <td>20.2</td>\n",
       "      <td>64.406250</td>\n",
       "      <td>64.687500</td>\n",
       "      <td>0.531250</td>\n",
       "      <td>0.438889</td>\n",
       "      <td>0.448050</td>\n",
       "      <td>0.459382</td>\n",
       "      <td>0.448593</td>\n",
       "      <td>-0.281250</td>\n",
       "    </tr>\n",
       "    <tr>\n",
       "      <th>13</th>\n",
       "      <td>1116</td>\n",
       "      <td>Arkansas</td>\n",
       "      <td>14</td>\n",
       "      <td>18</td>\n",
       "      <td>10.0</td>\n",
       "      <td>17.6</td>\n",
       "      <td>74.718750</td>\n",
       "      <td>73.937500</td>\n",
       "      <td>0.437500</td>\n",
       "      <td>0.362319</td>\n",
       "      <td>0.570726</td>\n",
       "      <td>0.530945</td>\n",
       "      <td>0.508679</td>\n",
       "      <td>0.781250</td>\n",
       "    </tr>\n",
       "    <tr>\n",
       "      <th>14</th>\n",
       "      <td>1117</td>\n",
       "      <td>Arkansas St</td>\n",
       "      <td>15</td>\n",
       "      <td>14</td>\n",
       "      <td>13.8</td>\n",
       "      <td>15.2</td>\n",
       "      <td>67.896552</td>\n",
       "      <td>67.517241</td>\n",
       "      <td>0.517241</td>\n",
       "      <td>0.475862</td>\n",
       "      <td>0.458568</td>\n",
       "      <td>0.481466</td>\n",
       "      <td>0.468616</td>\n",
       "      <td>0.379310</td>\n",
       "    </tr>\n",
       "    <tr>\n",
       "      <th>15</th>\n",
       "      <td>1119</td>\n",
       "      <td>Army</td>\n",
       "      <td>13</td>\n",
       "      <td>15</td>\n",
       "      <td>11.0</td>\n",
       "      <td>17.8</td>\n",
       "      <td>60.250000</td>\n",
       "      <td>61.142857</td>\n",
       "      <td>0.464286</td>\n",
       "      <td>0.381944</td>\n",
       "      <td>0.440077</td>\n",
       "      <td>0.454026</td>\n",
       "      <td>0.429031</td>\n",
       "      <td>-0.892857</td>\n",
       "    </tr>\n",
       "    <tr>\n",
       "      <th>16</th>\n",
       "      <td>1120</td>\n",
       "      <td>Auburn</td>\n",
       "      <td>14</td>\n",
       "      <td>17</td>\n",
       "      <td>10.0</td>\n",
       "      <td>18.6</td>\n",
       "      <td>75.032258</td>\n",
       "      <td>74.225806</td>\n",
       "      <td>0.451613</td>\n",
       "      <td>0.349650</td>\n",
       "      <td>0.557286</td>\n",
       "      <td>0.527454</td>\n",
       "      <td>0.497919</td>\n",
       "      <td>0.806452</td>\n",
       "    </tr>\n",
       "    <tr>\n",
       "      <th>17</th>\n",
       "      <td>1122</td>\n",
       "      <td>Austin Peay</td>\n",
       "      <td>15</td>\n",
       "      <td>15</td>\n",
       "      <td>13.4</td>\n",
       "      <td>17.0</td>\n",
       "      <td>71.200000</td>\n",
       "      <td>73.366667</td>\n",
       "      <td>0.500000</td>\n",
       "      <td>0.440789</td>\n",
       "      <td>0.510567</td>\n",
       "      <td>0.494414</td>\n",
       "      <td>0.489084</td>\n",
       "      <td>-2.166667</td>\n",
       "    </tr>\n",
       "    <tr>\n",
       "      <th>18</th>\n",
       "      <td>1123</td>\n",
       "      <td>Ball St</td>\n",
       "      <td>14</td>\n",
       "      <td>15</td>\n",
       "      <td>11.6</td>\n",
       "      <td>15.8</td>\n",
       "      <td>60.310345</td>\n",
       "      <td>62.620690</td>\n",
       "      <td>0.482759</td>\n",
       "      <td>0.423358</td>\n",
       "      <td>0.466543</td>\n",
       "      <td>0.500572</td>\n",
       "      <td>0.464254</td>\n",
       "      <td>-2.310345</td>\n",
       "    </tr>\n",
       "    <tr>\n",
       "      <th>19</th>\n",
       "      <td>1124</td>\n",
       "      <td>Baylor</td>\n",
       "      <td>24</td>\n",
       "      <td>7</td>\n",
       "      <td>20.8</td>\n",
       "      <td>8.2</td>\n",
       "      <td>76.709677</td>\n",
       "      <td>66.548387</td>\n",
       "      <td>0.774194</td>\n",
       "      <td>0.717241</td>\n",
       "      <td>0.591505</td>\n",
       "      <td>0.552533</td>\n",
       "      <td>0.613196</td>\n",
       "      <td>10.161290</td>\n",
       "    </tr>\n",
       "    <tr>\n",
       "      <th>20</th>\n",
       "      <td>1125</td>\n",
       "      <td>Belmont</td>\n",
       "      <td>19</td>\n",
       "      <td>12</td>\n",
       "      <td>18.2</td>\n",
       "      <td>14.0</td>\n",
       "      <td>73.096774</td>\n",
       "      <td>68.516129</td>\n",
       "      <td>0.612903</td>\n",
       "      <td>0.565217</td>\n",
       "      <td>0.476305</td>\n",
       "      <td>0.470346</td>\n",
       "      <td>0.497043</td>\n",
       "      <td>4.580645</td>\n",
       "    </tr>\n",
       "    <tr>\n",
       "      <th>21</th>\n",
       "      <td>1126</td>\n",
       "      <td>Bethune-Cookman</td>\n",
       "      <td>14</td>\n",
       "      <td>16</td>\n",
       "      <td>12.8</td>\n",
       "      <td>18.8</td>\n",
       "      <td>58.466667</td>\n",
       "      <td>60.900000</td>\n",
       "      <td>0.466667</td>\n",
       "      <td>0.405063</td>\n",
       "      <td>0.418788</td>\n",
       "      <td>0.448296</td>\n",
       "      <td>0.422734</td>\n",
       "      <td>-2.433333</td>\n",
       "    </tr>\n",
       "    <tr>\n",
       "      <th>22</th>\n",
       "      <td>1127</td>\n",
       "      <td>Binghamton</td>\n",
       "      <td>11</td>\n",
       "      <td>18</td>\n",
       "      <td>9.0</td>\n",
       "      <td>21.6</td>\n",
       "      <td>61.689655</td>\n",
       "      <td>68.172414</td>\n",
       "      <td>0.379310</td>\n",
       "      <td>0.294118</td>\n",
       "      <td>0.492889</td>\n",
       "      <td>0.473946</td>\n",
       "      <td>0.438461</td>\n",
       "      <td>-6.482759</td>\n",
       "    </tr>\n",
       "    <tr>\n",
       "      <th>23</th>\n",
       "      <td>1129</td>\n",
       "      <td>Boise St</td>\n",
       "      <td>14</td>\n",
       "      <td>17</td>\n",
       "      <td>12.4</td>\n",
       "      <td>17.8</td>\n",
       "      <td>74.000000</td>\n",
       "      <td>73.322581</td>\n",
       "      <td>0.451613</td>\n",
       "      <td>0.410596</td>\n",
       "      <td>0.488027</td>\n",
       "      <td>0.505418</td>\n",
       "      <td>0.473017</td>\n",
       "      <td>0.677419</td>\n",
       "    </tr>\n",
       "    <tr>\n",
       "      <th>24</th>\n",
       "      <td>1130</td>\n",
       "      <td>Boston College</td>\n",
       "      <td>15</td>\n",
       "      <td>16</td>\n",
       "      <td>11.8</td>\n",
       "      <td>16.4</td>\n",
       "      <td>69.193548</td>\n",
       "      <td>66.064516</td>\n",
       "      <td>0.483871</td>\n",
       "      <td>0.418440</td>\n",
       "      <td>0.563865</td>\n",
       "      <td>0.534384</td>\n",
       "      <td>0.520138</td>\n",
       "      <td>3.129032</td>\n",
       "    </tr>\n",
       "    <tr>\n",
       "      <th>25</th>\n",
       "      <td>1131</td>\n",
       "      <td>Boston Univ</td>\n",
       "      <td>19</td>\n",
       "      <td>13</td>\n",
       "      <td>18.6</td>\n",
       "      <td>14.2</td>\n",
       "      <td>70.812500</td>\n",
       "      <td>66.875000</td>\n",
       "      <td>0.593750</td>\n",
       "      <td>0.567073</td>\n",
       "      <td>0.481950</td>\n",
       "      <td>0.485141</td>\n",
       "      <td>0.504029</td>\n",
       "      <td>3.937500</td>\n",
       "    </tr>\n",
       "    <tr>\n",
       "      <th>26</th>\n",
       "      <td>1132</td>\n",
       "      <td>Bowling Green</td>\n",
       "      <td>13</td>\n",
       "      <td>16</td>\n",
       "      <td>11.8</td>\n",
       "      <td>18.4</td>\n",
       "      <td>62.827586</td>\n",
       "      <td>66.586207</td>\n",
       "      <td>0.448276</td>\n",
       "      <td>0.390728</td>\n",
       "      <td>0.497478</td>\n",
       "      <td>0.508031</td>\n",
       "      <td>0.473429</td>\n",
       "      <td>-3.758621</td>\n",
       "    </tr>\n",
       "    <tr>\n",
       "      <th>27</th>\n",
       "      <td>1133</td>\n",
       "      <td>Bradley</td>\n",
       "      <td>16</td>\n",
       "      <td>15</td>\n",
       "      <td>13.6</td>\n",
       "      <td>16.2</td>\n",
       "      <td>67.451613</td>\n",
       "      <td>67.387097</td>\n",
       "      <td>0.516129</td>\n",
       "      <td>0.456376</td>\n",
       "      <td>0.558287</td>\n",
       "      <td>0.520137</td>\n",
       "      <td>0.523272</td>\n",
       "      <td>0.064516</td>\n",
       "    </tr>\n",
       "    <tr>\n",
       "      <th>28</th>\n",
       "      <td>1135</td>\n",
       "      <td>Brown</td>\n",
       "      <td>9</td>\n",
       "      <td>20</td>\n",
       "      <td>10.2</td>\n",
       "      <td>20.4</td>\n",
       "      <td>66.551724</td>\n",
       "      <td>73.103448</td>\n",
       "      <td>0.310345</td>\n",
       "      <td>0.333333</td>\n",
       "      <td>0.482018</td>\n",
       "      <td>0.472254</td>\n",
       "      <td>0.442406</td>\n",
       "      <td>-6.551724</td>\n",
       "    </tr>\n",
       "    <tr>\n",
       "      <th>29</th>\n",
       "      <td>1136</td>\n",
       "      <td>Bryant</td>\n",
       "      <td>1</td>\n",
       "      <td>29</td>\n",
       "      <td>1.4</td>\n",
       "      <td>31.0</td>\n",
       "      <td>51.866667</td>\n",
       "      <td>69.500000</td>\n",
       "      <td>0.033333</td>\n",
       "      <td>0.043210</td>\n",
       "      <td>0.443118</td>\n",
       "      <td>0.457382</td>\n",
       "      <td>0.346707</td>\n",
       "      <td>-17.633333</td>\n",
       "    </tr>\n",
       "    <tr>\n",
       "      <th>...</th>\n",
       "      <td>...</td>\n",
       "      <td>...</td>\n",
       "      <td>...</td>\n",
       "      <td>...</td>\n",
       "      <td>...</td>\n",
       "      <td>...</td>\n",
       "      <td>...</td>\n",
       "      <td>...</td>\n",
       "      <td>...</td>\n",
       "      <td>...</td>\n",
       "      <td>...</td>\n",
       "      <td>...</td>\n",
       "      <td>...</td>\n",
       "      <td>...</td>\n",
       "    </tr>\n",
       "    <tr>\n",
       "      <th>317</th>\n",
       "      <td>1434</td>\n",
       "      <td>Valparaiso</td>\n",
       "      <td>12</td>\n",
       "      <td>17</td>\n",
       "      <td>11.2</td>\n",
       "      <td>20.2</td>\n",
       "      <td>72.310345</td>\n",
       "      <td>75.551724</td>\n",
       "      <td>0.413793</td>\n",
       "      <td>0.356688</td>\n",
       "      <td>0.510488</td>\n",
       "      <td>0.505199</td>\n",
       "      <td>0.470716</td>\n",
       "      <td>-3.241379</td>\n",
       "    </tr>\n",
       "    <tr>\n",
       "      <th>318</th>\n",
       "      <td>1435</td>\n",
       "      <td>Vanderbilt</td>\n",
       "      <td>23</td>\n",
       "      <td>8</td>\n",
       "      <td>20.2</td>\n",
       "      <td>8.4</td>\n",
       "      <td>77.548387</td>\n",
       "      <td>69.903226</td>\n",
       "      <td>0.741935</td>\n",
       "      <td>0.706294</td>\n",
       "      <td>0.577689</td>\n",
       "      <td>0.549431</td>\n",
       "      <td>0.602776</td>\n",
       "      <td>7.645161</td>\n",
       "    </tr>\n",
       "    <tr>\n",
       "      <th>319</th>\n",
       "      <td>1436</td>\n",
       "      <td>Vermont</td>\n",
       "      <td>25</td>\n",
       "      <td>9</td>\n",
       "      <td>25.8</td>\n",
       "      <td>10.6</td>\n",
       "      <td>70.617647</td>\n",
       "      <td>64.352941</td>\n",
       "      <td>0.735294</td>\n",
       "      <td>0.708791</td>\n",
       "      <td>0.418470</td>\n",
       "      <td>0.476661</td>\n",
       "      <td>0.505598</td>\n",
       "      <td>6.264706</td>\n",
       "    </tr>\n",
       "    <tr>\n",
       "      <th>320</th>\n",
       "      <td>1437</td>\n",
       "      <td>Villanova</td>\n",
       "      <td>24</td>\n",
       "      <td>7</td>\n",
       "      <td>21.6</td>\n",
       "      <td>7.8</td>\n",
       "      <td>82.548387</td>\n",
       "      <td>72.870968</td>\n",
       "      <td>0.774194</td>\n",
       "      <td>0.734694</td>\n",
       "      <td>0.573794</td>\n",
       "      <td>0.569641</td>\n",
       "      <td>0.612981</td>\n",
       "      <td>9.677419</td>\n",
       "    </tr>\n",
       "    <tr>\n",
       "      <th>321</th>\n",
       "      <td>1438</td>\n",
       "      <td>Virginia</td>\n",
       "      <td>15</td>\n",
       "      <td>16</td>\n",
       "      <td>11.4</td>\n",
       "      <td>16.8</td>\n",
       "      <td>65.451613</td>\n",
       "      <td>63.580645</td>\n",
       "      <td>0.483871</td>\n",
       "      <td>0.404255</td>\n",
       "      <td>0.562286</td>\n",
       "      <td>0.535897</td>\n",
       "      <td>0.516181</td>\n",
       "      <td>1.870968</td>\n",
       "    </tr>\n",
       "    <tr>\n",
       "      <th>322</th>\n",
       "      <td>1439</td>\n",
       "      <td>Virginia Tech</td>\n",
       "      <td>23</td>\n",
       "      <td>8</td>\n",
       "      <td>19.4</td>\n",
       "      <td>10.0</td>\n",
       "      <td>72.741935</td>\n",
       "      <td>64.903226</td>\n",
       "      <td>0.741935</td>\n",
       "      <td>0.659864</td>\n",
       "      <td>0.499008</td>\n",
       "      <td>0.539458</td>\n",
       "      <td>0.549334</td>\n",
       "      <td>7.838710</td>\n",
       "    </tr>\n",
       "    <tr>\n",
       "      <th>323</th>\n",
       "      <td>1440</td>\n",
       "      <td>VMI</td>\n",
       "      <td>6</td>\n",
       "      <td>19</td>\n",
       "      <td>5.2</td>\n",
       "      <td>21.8</td>\n",
       "      <td>86.080000</td>\n",
       "      <td>97.560000</td>\n",
       "      <td>0.240000</td>\n",
       "      <td>0.192593</td>\n",
       "      <td>0.474879</td>\n",
       "      <td>0.462787</td>\n",
       "      <td>0.401284</td>\n",
       "      <td>-11.480000</td>\n",
       "    </tr>\n",
       "    <tr>\n",
       "      <th>324</th>\n",
       "      <td>1441</td>\n",
       "      <td>W Carolina</td>\n",
       "      <td>19</td>\n",
       "      <td>11</td>\n",
       "      <td>17.4</td>\n",
       "      <td>13.4</td>\n",
       "      <td>72.600000</td>\n",
       "      <td>70.800000</td>\n",
       "      <td>0.633333</td>\n",
       "      <td>0.564935</td>\n",
       "      <td>0.463920</td>\n",
       "      <td>0.502469</td>\n",
       "      <td>0.498811</td>\n",
       "      <td>1.800000</td>\n",
       "    </tr>\n",
       "    <tr>\n",
       "      <th>325</th>\n",
       "      <td>1442</td>\n",
       "      <td>W Illinois</td>\n",
       "      <td>10</td>\n",
       "      <td>17</td>\n",
       "      <td>10.0</td>\n",
       "      <td>17.8</td>\n",
       "      <td>57.148148</td>\n",
       "      <td>61.592593</td>\n",
       "      <td>0.370370</td>\n",
       "      <td>0.359712</td>\n",
       "      <td>0.439459</td>\n",
       "      <td>0.468152</td>\n",
       "      <td>0.426696</td>\n",
       "      <td>-4.444444</td>\n",
       "    </tr>\n",
       "    <tr>\n",
       "      <th>326</th>\n",
       "      <td>1443</td>\n",
       "      <td>WKU</td>\n",
       "      <td>21</td>\n",
       "      <td>13</td>\n",
       "      <td>18.2</td>\n",
       "      <td>14.6</td>\n",
       "      <td>71.235294</td>\n",
       "      <td>66.735294</td>\n",
       "      <td>0.617647</td>\n",
       "      <td>0.554878</td>\n",
       "      <td>0.479732</td>\n",
       "      <td>0.494032</td>\n",
       "      <td>0.502094</td>\n",
       "      <td>4.500000</td>\n",
       "    </tr>\n",
       "    <tr>\n",
       "      <th>327</th>\n",
       "      <td>1444</td>\n",
       "      <td>W Michigan</td>\n",
       "      <td>17</td>\n",
       "      <td>15</td>\n",
       "      <td>13.8</td>\n",
       "      <td>17.8</td>\n",
       "      <td>68.781250</td>\n",
       "      <td>67.187500</td>\n",
       "      <td>0.531250</td>\n",
       "      <td>0.436709</td>\n",
       "      <td>0.511234</td>\n",
       "      <td>0.495822</td>\n",
       "      <td>0.488750</td>\n",
       "      <td>1.593750</td>\n",
       "    </tr>\n",
       "    <tr>\n",
       "      <th>328</th>\n",
       "      <td>1445</td>\n",
       "      <td>W Salem St</td>\n",
       "      <td>8</td>\n",
       "      <td>17</td>\n",
       "      <td>8.0</td>\n",
       "      <td>19.0</td>\n",
       "      <td>58.840000</td>\n",
       "      <td>71.200000</td>\n",
       "      <td>0.320000</td>\n",
       "      <td>0.296296</td>\n",
       "      <td>0.440766</td>\n",
       "      <td>0.464709</td>\n",
       "      <td>0.410634</td>\n",
       "      <td>-12.360000</td>\n",
       "    </tr>\n",
       "    <tr>\n",
       "      <th>329</th>\n",
       "      <td>1447</td>\n",
       "      <td>Wagner</td>\n",
       "      <td>5</td>\n",
       "      <td>26</td>\n",
       "      <td>5.0</td>\n",
       "      <td>27.2</td>\n",
       "      <td>60.774194</td>\n",
       "      <td>69.806452</td>\n",
       "      <td>0.161290</td>\n",
       "      <td>0.155280</td>\n",
       "      <td>0.465219</td>\n",
       "      <td>0.438354</td>\n",
       "      <td>0.381018</td>\n",
       "      <td>-9.032258</td>\n",
       "    </tr>\n",
       "    <tr>\n",
       "      <th>330</th>\n",
       "      <td>1448</td>\n",
       "      <td>Wake Forest</td>\n",
       "      <td>19</td>\n",
       "      <td>10</td>\n",
       "      <td>15.8</td>\n",
       "      <td>12.0</td>\n",
       "      <td>72.965517</td>\n",
       "      <td>68.448276</td>\n",
       "      <td>0.655172</td>\n",
       "      <td>0.568345</td>\n",
       "      <td>0.580627</td>\n",
       "      <td>0.541059</td>\n",
       "      <td>0.567665</td>\n",
       "      <td>4.517241</td>\n",
       "    </tr>\n",
       "    <tr>\n",
       "      <th>331</th>\n",
       "      <td>1449</td>\n",
       "      <td>Washington</td>\n",
       "      <td>24</td>\n",
       "      <td>9</td>\n",
       "      <td>18.8</td>\n",
       "      <td>10.6</td>\n",
       "      <td>79.787879</td>\n",
       "      <td>69.939394</td>\n",
       "      <td>0.727273</td>\n",
       "      <td>0.639456</td>\n",
       "      <td>0.544484</td>\n",
       "      <td>0.541209</td>\n",
       "      <td>0.567408</td>\n",
       "      <td>9.848485</td>\n",
       "    </tr>\n",
       "    <tr>\n",
       "      <th>332</th>\n",
       "      <td>1450</td>\n",
       "      <td>Washington St</td>\n",
       "      <td>15</td>\n",
       "      <td>15</td>\n",
       "      <td>12.6</td>\n",
       "      <td>16.6</td>\n",
       "      <td>71.400000</td>\n",
       "      <td>70.733333</td>\n",
       "      <td>0.500000</td>\n",
       "      <td>0.431507</td>\n",
       "      <td>0.504939</td>\n",
       "      <td>0.536596</td>\n",
       "      <td>0.494495</td>\n",
       "      <td>0.666667</td>\n",
       "    </tr>\n",
       "    <tr>\n",
       "      <th>333</th>\n",
       "      <td>1451</td>\n",
       "      <td>Weber St</td>\n",
       "      <td>18</td>\n",
       "      <td>10</td>\n",
       "      <td>15.6</td>\n",
       "      <td>12.4</td>\n",
       "      <td>76.321429</td>\n",
       "      <td>71.214286</td>\n",
       "      <td>0.642857</td>\n",
       "      <td>0.557143</td>\n",
       "      <td>0.511265</td>\n",
       "      <td>0.482961</td>\n",
       "      <td>0.515658</td>\n",
       "      <td>5.107143</td>\n",
       "    </tr>\n",
       "    <tr>\n",
       "      <th>334</th>\n",
       "      <td>1452</td>\n",
       "      <td>West Virginia</td>\n",
       "      <td>27</td>\n",
       "      <td>6</td>\n",
       "      <td>25.0</td>\n",
       "      <td>6.8</td>\n",
       "      <td>72.969697</td>\n",
       "      <td>63.787879</td>\n",
       "      <td>0.818182</td>\n",
       "      <td>0.786164</td>\n",
       "      <td>0.618563</td>\n",
       "      <td>0.565801</td>\n",
       "      <td>0.647272</td>\n",
       "      <td>9.181818</td>\n",
       "    </tr>\n",
       "    <tr>\n",
       "      <th>335</th>\n",
       "      <td>1453</td>\n",
       "      <td>WI Green Bay</td>\n",
       "      <td>19</td>\n",
       "      <td>12</td>\n",
       "      <td>18.2</td>\n",
       "      <td>12.8</td>\n",
       "      <td>68.322581</td>\n",
       "      <td>67.483871</td>\n",
       "      <td>0.612903</td>\n",
       "      <td>0.587097</td>\n",
       "      <td>0.497583</td>\n",
       "      <td>0.503591</td>\n",
       "      <td>0.521463</td>\n",
       "      <td>0.838710</td>\n",
       "    </tr>\n",
       "    <tr>\n",
       "      <th>336</th>\n",
       "      <td>1454</td>\n",
       "      <td>WI Milwaukee</td>\n",
       "      <td>18</td>\n",
       "      <td>14</td>\n",
       "      <td>17.6</td>\n",
       "      <td>15.6</td>\n",
       "      <td>69.343750</td>\n",
       "      <td>68.343750</td>\n",
       "      <td>0.562500</td>\n",
       "      <td>0.530120</td>\n",
       "      <td>0.490667</td>\n",
       "      <td>0.509546</td>\n",
       "      <td>0.505250</td>\n",
       "      <td>1.000000</td>\n",
       "    </tr>\n",
       "    <tr>\n",
       "      <th>337</th>\n",
       "      <td>1455</td>\n",
       "      <td>Wichita St</td>\n",
       "      <td>24</td>\n",
       "      <td>9</td>\n",
       "      <td>19.6</td>\n",
       "      <td>11.8</td>\n",
       "      <td>69.030303</td>\n",
       "      <td>61.757576</td>\n",
       "      <td>0.727273</td>\n",
       "      <td>0.624204</td>\n",
       "      <td>0.524832</td>\n",
       "      <td>0.522257</td>\n",
       "      <td>0.549031</td>\n",
       "      <td>7.272727</td>\n",
       "    </tr>\n",
       "    <tr>\n",
       "      <th>338</th>\n",
       "      <td>1456</td>\n",
       "      <td>William &amp; Mary</td>\n",
       "      <td>21</td>\n",
       "      <td>10</td>\n",
       "      <td>21.4</td>\n",
       "      <td>11.2</td>\n",
       "      <td>66.032258</td>\n",
       "      <td>64.548387</td>\n",
       "      <td>0.677419</td>\n",
       "      <td>0.656442</td>\n",
       "      <td>0.532769</td>\n",
       "      <td>0.511987</td>\n",
       "      <td>0.558492</td>\n",
       "      <td>1.483871</td>\n",
       "    </tr>\n",
       "    <tr>\n",
       "      <th>339</th>\n",
       "      <td>1457</td>\n",
       "      <td>Winthrop</td>\n",
       "      <td>17</td>\n",
       "      <td>13</td>\n",
       "      <td>15.4</td>\n",
       "      <td>16.6</td>\n",
       "      <td>62.566667</td>\n",
       "      <td>61.933333</td>\n",
       "      <td>0.566667</td>\n",
       "      <td>0.481250</td>\n",
       "      <td>0.460063</td>\n",
       "      <td>0.470640</td>\n",
       "      <td>0.468004</td>\n",
       "      <td>0.633333</td>\n",
       "    </tr>\n",
       "    <tr>\n",
       "      <th>340</th>\n",
       "      <td>1458</td>\n",
       "      <td>Wisconsin</td>\n",
       "      <td>23</td>\n",
       "      <td>8</td>\n",
       "      <td>18.6</td>\n",
       "      <td>9.6</td>\n",
       "      <td>67.483871</td>\n",
       "      <td>56.193548</td>\n",
       "      <td>0.741935</td>\n",
       "      <td>0.659574</td>\n",
       "      <td>0.582466</td>\n",
       "      <td>0.534841</td>\n",
       "      <td>0.589837</td>\n",
       "      <td>11.290323</td>\n",
       "    </tr>\n",
       "    <tr>\n",
       "      <th>341</th>\n",
       "      <td>1459</td>\n",
       "      <td>Wofford</td>\n",
       "      <td>25</td>\n",
       "      <td>8</td>\n",
       "      <td>25.0</td>\n",
       "      <td>10.0</td>\n",
       "      <td>69.030303</td>\n",
       "      <td>61.878788</td>\n",
       "      <td>0.757576</td>\n",
       "      <td>0.714286</td>\n",
       "      <td>0.466237</td>\n",
       "      <td>0.502447</td>\n",
       "      <td>0.537302</td>\n",
       "      <td>7.151515</td>\n",
       "    </tr>\n",
       "    <tr>\n",
       "      <th>342</th>\n",
       "      <td>1460</td>\n",
       "      <td>Wright St</td>\n",
       "      <td>20</td>\n",
       "      <td>12</td>\n",
       "      <td>17.2</td>\n",
       "      <td>16.0</td>\n",
       "      <td>67.593750</td>\n",
       "      <td>60.937500</td>\n",
       "      <td>0.625000</td>\n",
       "      <td>0.518072</td>\n",
       "      <td>0.508465</td>\n",
       "      <td>0.505231</td>\n",
       "      <td>0.510058</td>\n",
       "      <td>6.656250</td>\n",
       "    </tr>\n",
       "    <tr>\n",
       "      <th>343</th>\n",
       "      <td>1461</td>\n",
       "      <td>Wyoming</td>\n",
       "      <td>8</td>\n",
       "      <td>21</td>\n",
       "      <td>5.2</td>\n",
       "      <td>21.8</td>\n",
       "      <td>67.137931</td>\n",
       "      <td>74.655172</td>\n",
       "      <td>0.275862</td>\n",
       "      <td>0.192593</td>\n",
       "      <td>0.571019</td>\n",
       "      <td>0.509144</td>\n",
       "      <td>0.460944</td>\n",
       "      <td>-7.517241</td>\n",
       "    </tr>\n",
       "    <tr>\n",
       "      <th>344</th>\n",
       "      <td>1462</td>\n",
       "      <td>Xavier</td>\n",
       "      <td>24</td>\n",
       "      <td>8</td>\n",
       "      <td>20.8</td>\n",
       "      <td>10.0</td>\n",
       "      <td>80.031250</td>\n",
       "      <td>69.062500</td>\n",
       "      <td>0.750000</td>\n",
       "      <td>0.675325</td>\n",
       "      <td>0.562784</td>\n",
       "      <td>0.548776</td>\n",
       "      <td>0.587417</td>\n",
       "      <td>10.968750</td>\n",
       "    </tr>\n",
       "    <tr>\n",
       "      <th>345</th>\n",
       "      <td>1463</td>\n",
       "      <td>Yale</td>\n",
       "      <td>11</td>\n",
       "      <td>19</td>\n",
       "      <td>10.6</td>\n",
       "      <td>20.6</td>\n",
       "      <td>65.833333</td>\n",
       "      <td>69.533333</td>\n",
       "      <td>0.366667</td>\n",
       "      <td>0.339744</td>\n",
       "      <td>0.451131</td>\n",
       "      <td>0.469205</td>\n",
       "      <td>0.427803</td>\n",
       "      <td>-3.700000</td>\n",
       "    </tr>\n",
       "    <tr>\n",
       "      <th>346</th>\n",
       "      <td>1464</td>\n",
       "      <td>Youngstown St</td>\n",
       "      <td>6</td>\n",
       "      <td>22</td>\n",
       "      <td>5.2</td>\n",
       "      <td>23.6</td>\n",
       "      <td>65.464286</td>\n",
       "      <td>71.571429</td>\n",
       "      <td>0.214286</td>\n",
       "      <td>0.180556</td>\n",
       "      <td>0.524723</td>\n",
       "      <td>0.496698</td>\n",
       "      <td>0.431675</td>\n",
       "      <td>-6.107143</td>\n",
       "    </tr>\n",
       "  </tbody>\n",
       "</table>\n",
       "<p>347 rows × 14 columns</p>\n",
       "</div>"
      ],
      "text/plain": [
       "     Team_Id        Team_Name   W   L    aW    aL        PPG     OppPPG  \\\n",
       "0       1102        Air Force   8  21   5.6  21.4  55.620690  62.965517   \n",
       "1       1103            Akron  23  10  21.0  10.0  71.030303  66.454545   \n",
       "2       1104          Alabama  17  15  13.8  15.0  68.500000  64.781250   \n",
       "3       1105      Alabama A&M   8  15   7.2  17.0  63.826087  70.304348   \n",
       "4       1106       Alabama St  13  15  13.0  18.2  64.035714  66.428571   \n",
       "5       1107        Albany NY   7  25   6.6  27.4  62.718750  69.125000   \n",
       "6       1108        Alcorn St   2  29   1.2  33.0  60.645161  82.000000   \n",
       "7       1110    American Univ  11  20   9.8  21.6  62.612903  67.193548   \n",
       "8       1111   Appalachian St  20  11  18.4  13.4  73.258065  68.967742   \n",
       "9       1112          Arizona  16  15  13.2  15.8  71.903226  72.032258   \n",
       "10      1113       Arizona St  22  10  17.6  10.8  66.750000  58.468750   \n",
       "11      1114  Ark Little Rock   6  22   3.6  25.2  66.071429  73.892857   \n",
       "12      1115   Ark Pine Bluff  17  15  15.8  20.2  64.406250  64.687500   \n",
       "13      1116         Arkansas  14  18  10.0  17.6  74.718750  73.937500   \n",
       "14      1117      Arkansas St  15  14  13.8  15.2  67.896552  67.517241   \n",
       "15      1119             Army  13  15  11.0  17.8  60.250000  61.142857   \n",
       "16      1120           Auburn  14  17  10.0  18.6  75.032258  74.225806   \n",
       "17      1122      Austin Peay  15  15  13.4  17.0  71.200000  73.366667   \n",
       "18      1123          Ball St  14  15  11.6  15.8  60.310345  62.620690   \n",
       "19      1124           Baylor  24   7  20.8   8.2  76.709677  66.548387   \n",
       "20      1125          Belmont  19  12  18.2  14.0  73.096774  68.516129   \n",
       "21      1126  Bethune-Cookman  14  16  12.8  18.8  58.466667  60.900000   \n",
       "22      1127       Binghamton  11  18   9.0  21.6  61.689655  68.172414   \n",
       "23      1129         Boise St  14  17  12.4  17.8  74.000000  73.322581   \n",
       "24      1130   Boston College  15  16  11.8  16.4  69.193548  66.064516   \n",
       "25      1131      Boston Univ  19  13  18.6  14.2  70.812500  66.875000   \n",
       "26      1132    Bowling Green  13  16  11.8  18.4  62.827586  66.586207   \n",
       "27      1133          Bradley  16  15  13.6  16.2  67.451613  67.387097   \n",
       "28      1135            Brown   9  20  10.2  20.4  66.551724  73.103448   \n",
       "29      1136           Bryant   1  29   1.4  31.0  51.866667  69.500000   \n",
       "..       ...              ...  ..  ..   ...   ...        ...        ...   \n",
       "317     1434       Valparaiso  12  17  11.2  20.2  72.310345  75.551724   \n",
       "318     1435       Vanderbilt  23   8  20.2   8.4  77.548387  69.903226   \n",
       "319     1436          Vermont  25   9  25.8  10.6  70.617647  64.352941   \n",
       "320     1437        Villanova  24   7  21.6   7.8  82.548387  72.870968   \n",
       "321     1438         Virginia  15  16  11.4  16.8  65.451613  63.580645   \n",
       "322     1439    Virginia Tech  23   8  19.4  10.0  72.741935  64.903226   \n",
       "323     1440              VMI   6  19   5.2  21.8  86.080000  97.560000   \n",
       "324     1441       W Carolina  19  11  17.4  13.4  72.600000  70.800000   \n",
       "325     1442       W Illinois  10  17  10.0  17.8  57.148148  61.592593   \n",
       "326     1443              WKU  21  13  18.2  14.6  71.235294  66.735294   \n",
       "327     1444       W Michigan  17  15  13.8  17.8  68.781250  67.187500   \n",
       "328     1445       W Salem St   8  17   8.0  19.0  58.840000  71.200000   \n",
       "329     1447           Wagner   5  26   5.0  27.2  60.774194  69.806452   \n",
       "330     1448      Wake Forest  19  10  15.8  12.0  72.965517  68.448276   \n",
       "331     1449       Washington  24   9  18.8  10.6  79.787879  69.939394   \n",
       "332     1450    Washington St  15  15  12.6  16.6  71.400000  70.733333   \n",
       "333     1451         Weber St  18  10  15.6  12.4  76.321429  71.214286   \n",
       "334     1452    West Virginia  27   6  25.0   6.8  72.969697  63.787879   \n",
       "335     1453     WI Green Bay  19  12  18.2  12.8  68.322581  67.483871   \n",
       "336     1454     WI Milwaukee  18  14  17.6  15.6  69.343750  68.343750   \n",
       "337     1455       Wichita St  24   9  19.6  11.8  69.030303  61.757576   \n",
       "338     1456   William & Mary  21  10  21.4  11.2  66.032258  64.548387   \n",
       "339     1457         Winthrop  17  13  15.4  16.6  62.566667  61.933333   \n",
       "340     1458        Wisconsin  23   8  18.6   9.6  67.483871  56.193548   \n",
       "341     1459          Wofford  25   8  25.0  10.0  69.030303  61.878788   \n",
       "342     1460        Wright St  20  12  17.2  16.0  67.593750  60.937500   \n",
       "343     1461          Wyoming   8  21   5.2  21.8  67.137931  74.655172   \n",
       "344     1462           Xavier  24   8  20.8  10.0  80.031250  69.062500   \n",
       "345     1463             Yale  11  19  10.6  20.6  65.833333  69.533333   \n",
       "346     1464    Youngstown St   6  22   5.2  23.6  65.464286  71.571429   \n",
       "\n",
       "           WP       aWP       OWP      OOWP       RPI  scoreMargin  \n",
       "0    0.275862  0.207407  0.546063  0.512075  0.452902    -7.344828  \n",
       "1    0.696970  0.677419  0.492794  0.511868  0.543719     4.575758  \n",
       "2    0.531250  0.479167  0.562605  0.543998  0.537094     3.718750  \n",
       "3    0.347826  0.297521  0.378100  0.438878  0.373149    -6.478261  \n",
       "4    0.464286  0.416667  0.374679  0.450222  0.404062    -2.392857  \n",
       "5    0.218750  0.194118  0.489261  0.465365  0.409501    -6.406250  \n",
       "6    0.064516  0.035088  0.452960  0.446165  0.346793   -21.354839  \n",
       "7    0.354839  0.312102  0.430755  0.469388  0.410750    -4.580645  \n",
       "8    0.645161  0.578616  0.484180  0.492821  0.509950     4.290323  \n",
       "9    0.516129  0.455172  0.569632  0.539481  0.533480    -0.129032  \n",
       "10   0.687500  0.619718  0.541114  0.532289  0.558559     8.281250  \n",
       "11   0.214286  0.125000  0.511589  0.478642  0.406705    -7.821429  \n",
       "12   0.531250  0.438889  0.448050  0.459382  0.448593    -0.281250  \n",
       "13   0.437500  0.362319  0.570726  0.530945  0.508679     0.781250  \n",
       "14   0.517241  0.475862  0.458568  0.481466  0.468616     0.379310  \n",
       "15   0.464286  0.381944  0.440077  0.454026  0.429031    -0.892857  \n",
       "16   0.451613  0.349650  0.557286  0.527454  0.497919     0.806452  \n",
       "17   0.500000  0.440789  0.510567  0.494414  0.489084    -2.166667  \n",
       "18   0.482759  0.423358  0.466543  0.500572  0.464254    -2.310345  \n",
       "19   0.774194  0.717241  0.591505  0.552533  0.613196    10.161290  \n",
       "20   0.612903  0.565217  0.476305  0.470346  0.497043     4.580645  \n",
       "21   0.466667  0.405063  0.418788  0.448296  0.422734    -2.433333  \n",
       "22   0.379310  0.294118  0.492889  0.473946  0.438461    -6.482759  \n",
       "23   0.451613  0.410596  0.488027  0.505418  0.473017     0.677419  \n",
       "24   0.483871  0.418440  0.563865  0.534384  0.520138     3.129032  \n",
       "25   0.593750  0.567073  0.481950  0.485141  0.504029     3.937500  \n",
       "26   0.448276  0.390728  0.497478  0.508031  0.473429    -3.758621  \n",
       "27   0.516129  0.456376  0.558287  0.520137  0.523272     0.064516  \n",
       "28   0.310345  0.333333  0.482018  0.472254  0.442406    -6.551724  \n",
       "29   0.033333  0.043210  0.443118  0.457382  0.346707   -17.633333  \n",
       "..        ...       ...       ...       ...       ...          ...  \n",
       "317  0.413793  0.356688  0.510488  0.505199  0.470716    -3.241379  \n",
       "318  0.741935  0.706294  0.577689  0.549431  0.602776     7.645161  \n",
       "319  0.735294  0.708791  0.418470  0.476661  0.505598     6.264706  \n",
       "320  0.774194  0.734694  0.573794  0.569641  0.612981     9.677419  \n",
       "321  0.483871  0.404255  0.562286  0.535897  0.516181     1.870968  \n",
       "322  0.741935  0.659864  0.499008  0.539458  0.549334     7.838710  \n",
       "323  0.240000  0.192593  0.474879  0.462787  0.401284   -11.480000  \n",
       "324  0.633333  0.564935  0.463920  0.502469  0.498811     1.800000  \n",
       "325  0.370370  0.359712  0.439459  0.468152  0.426696    -4.444444  \n",
       "326  0.617647  0.554878  0.479732  0.494032  0.502094     4.500000  \n",
       "327  0.531250  0.436709  0.511234  0.495822  0.488750     1.593750  \n",
       "328  0.320000  0.296296  0.440766  0.464709  0.410634   -12.360000  \n",
       "329  0.161290  0.155280  0.465219  0.438354  0.381018    -9.032258  \n",
       "330  0.655172  0.568345  0.580627  0.541059  0.567665     4.517241  \n",
       "331  0.727273  0.639456  0.544484  0.541209  0.567408     9.848485  \n",
       "332  0.500000  0.431507  0.504939  0.536596  0.494495     0.666667  \n",
       "333  0.642857  0.557143  0.511265  0.482961  0.515658     5.107143  \n",
       "334  0.818182  0.786164  0.618563  0.565801  0.647272     9.181818  \n",
       "335  0.612903  0.587097  0.497583  0.503591  0.521463     0.838710  \n",
       "336  0.562500  0.530120  0.490667  0.509546  0.505250     1.000000  \n",
       "337  0.727273  0.624204  0.524832  0.522257  0.549031     7.272727  \n",
       "338  0.677419  0.656442  0.532769  0.511987  0.558492     1.483871  \n",
       "339  0.566667  0.481250  0.460063  0.470640  0.468004     0.633333  \n",
       "340  0.741935  0.659574  0.582466  0.534841  0.589837    11.290323  \n",
       "341  0.757576  0.714286  0.466237  0.502447  0.537302     7.151515  \n",
       "342  0.625000  0.518072  0.508465  0.505231  0.510058     6.656250  \n",
       "343  0.275862  0.192593  0.571019  0.509144  0.460944    -7.517241  \n",
       "344  0.750000  0.675325  0.562784  0.548776  0.587417    10.968750  \n",
       "345  0.366667  0.339744  0.451131  0.469205  0.427803    -3.700000  \n",
       "346  0.214286  0.180556  0.524723  0.496698  0.431675    -6.107143  \n",
       "\n",
       "[347 rows x 14 columns]"
      ]
     },
     "execution_count": 35,
     "metadata": {},
     "output_type": "execute_result"
    }
   ],
   "source": [
    "rs2010"
   ]
  },
  {
   "cell_type": "code",
   "execution_count": 33,
   "metadata": {
    "collapsed": false
   },
   "outputs": [],
   "source": [
    "reg_season_list = ['rs'+np.str(year) for year in season_years[-7:]]"
   ]
  },
  {
   "cell_type": "code",
   "execution_count": 34,
   "metadata": {
    "collapsed": true
   },
   "outputs": [],
   "source": [
    "os.mkdir('derived_data')\n",
    "os.chdir('derived_data')"
   ]
  },
  {
   "cell_type": "code",
   "execution_count": 36,
   "metadata": {
    "collapsed": true
   },
   "outputs": [],
   "source": [
    "rs2010.to_csv('rs2010.csv',index=False)\n",
    "rs2011.to_csv('rs2011.csv',index=False)\n",
    "rs2012.to_csv('rs2012.csv',index=False)\n",
    "rs2013.to_csv('rs2013.csv',index=False)\n",
    "rs2014.to_csv('rs2014.csv',index=False)\n",
    "rs2015.to_csv('rs2015.csv',index=False)\n",
    "rs2016.to_csv('rs2016.csv',index=False)"
   ]
  },
  {
   "cell_type": "markdown",
   "metadata": {},
   "source": [
    "## I want to get info about the tournament victories/seeding now"
   ]
  },
  {
   "cell_type": "code",
   "execution_count": 38,
   "metadata": {
    "collapsed": false
   },
   "outputs": [],
   "source": [
    "os.chdir('../')\n",
    "tourney_comp = pd.read_csv('TourneyCompactResults.csv')"
   ]
  },
  {
   "cell_type": "code",
   "execution_count": 52,
   "metadata": {
    "collapsed": false
   },
   "outputs": [
    {
     "data": {
      "text/plain": [
       "Index(['Team_Id', 'Team_Name', 'W', 'L', 'aW', 'aL', 'PPG', 'OppPPG', 'WP',\n",
       "       'aWP', 'OWP', 'OOWP', 'RPI', 'scoreMargin'],\n",
       "      dtype='object')"
      ]
     },
     "execution_count": 52,
     "metadata": {},
     "output_type": "execute_result"
    }
   ],
   "source": [
    "rs2015.columns"
   ]
  },
  {
   "cell_type": "code",
   "execution_count": 54,
   "metadata": {
    "collapsed": false
   },
   "outputs": [],
   "source": [
    "def transform_tourney_games(tourney,regseason,season):\n",
    "    tgames = tourney[tourney.Season==season].copy()\n",
    "    tourney_teams = list(set(tgames.Wteam.tolist()).union(set(tgames.Lteam.tolist())))\n",
    "    tgames['w_WP'] = tgames['Wteam'].apply(lambda x: get_pct(x,regseason))\n",
    "    tgames['l_WP'] = tgames['Lteam'].apply(lambda x: get_pct(x,regseason))\n",
    "    tgames['w_aWP'] = tgames['Wteam'].apply(lambda x: get_pct(x,regseason,'aWP'))#.head()\n",
    "    tgames['l_aWP'] = tgames['Lteam'].apply(lambda x: get_pct(x,regseason,'aWP'))#.head()\n",
    "    tgames['w_RPI'] = tgames['Wteam'].apply(lambda x: get_pct(x,regseason,'RPI'))#.head()\n",
    "    tgames['l_RPI'] = tgames['Lteam'].apply(lambda x: get_pct(x,regseason,'RPI'))#.head()\n",
    "    tgames['w_PPG'] = tgames['Wteam'].apply(lambda x: get_pct(x,regseason,'PPG'))\n",
    "    tgames['l_PPG'] = tgames['Lteam'].apply(lambda x: get_pct(x,regseason,'PPG'))\n",
    "    tgames['w_scoreMargin'] = tgames['Wteam'].apply(lambda x: get_pct(x,regseason,'scoreMargin'))\n",
    "    tgames['l_scoreMargin'] = tgames['Lteam'].apply(lambda x: get_pct(x,regseason,'scoreMargin'))\n",
    "\n",
    "    return tgames"
   ]
  },
  {
   "cell_type": "code",
   "execution_count": null,
   "metadata": {
    "collapsed": true
   },
   "outputs": [],
   "source": []
  },
  {
   "cell_type": "code",
   "execution_count": 55,
   "metadata": {
    "collapsed": false
   },
   "outputs": [],
   "source": [
    "tgames2015 = transform_tourney_games(tourney_comp,rs2015,2015)"
   ]
  },
  {
   "cell_type": "code",
   "execution_count": 56,
   "metadata": {
    "collapsed": false
   },
   "outputs": [],
   "source": [
    "#sns.jointplot(tgames2015['Wteam'].apply(lambda x: get_pct(x,rs2015,'PPG')).values,tgames2015['Wscore'].values)"
   ]
  },
  {
   "cell_type": "code",
   "execution_count": 59,
   "metadata": {
    "collapsed": false
   },
   "outputs": [
    {
     "data": {
      "text/plain": [
       "Index(['Season', 'Daynum', 'Wteam', 'Wscore', 'Lteam', 'Lscore', 'Wloc',\n",
       "       'Numot', 'w_WP', 'l_WP', 'w_aWP', 'l_aWP', 'w_RPI', 'l_RPI', 'w_PPG',\n",
       "       'l_PPG', 'w_scoreMargin', 'l_scoreMargin'],\n",
       "      dtype='object')"
      ]
     },
     "execution_count": 59,
     "metadata": {},
     "output_type": "execute_result"
    }
   ],
   "source": [
    "tgames2015.columns"
   ]
  },
  {
   "cell_type": "code",
   "execution_count": 60,
   "metadata": {
    "collapsed": false
   },
   "outputs": [
    {
     "data": {
      "text/plain": [
       "<matplotlib.axes._subplots.AxesSubplot at 0xb756b00>"
      ]
     },
     "execution_count": 60,
     "metadata": {},
     "output_type": "execute_result"
    },
    {
     "data": {
      "image/png": "[encoded data removed]",
      "text/plain": [
       "<matplotlib.figure.Figure at 0xb747cf8>"
      ]
     },
     "metadata": {},
     "output_type": "display_data"
    }
   ],
   "source": [
    "sns.distplot(tgames2015['Wscore']-tgames2015['Lscore'])"
   ]
  },
  {
   "cell_type": "code",
   "execution_count": 61,
   "metadata": {
    "collapsed": false
   },
   "outputs": [
    {
     "data": {
      "text/plain": [
       "<matplotlib.axes._subplots.AxesSubplot at 0x5ce9710>"
      ]
     },
     "execution_count": 61,
     "metadata": {},
     "output_type": "execute_result"
    },
    {
     "data": {
      "image/png": "[encoded data removed]",
      "text/plain": [
       "<matplotlib.figure.Figure at 0xb693518>"
      ]
     },
     "metadata": {},
     "output_type": "display_data"
    }
   ],
   "source": [
    "sns.distplot(tgames2015['w_PPG']-tgames2015['l_PPG'])"
   ]
  },
  {
   "cell_type": "code",
   "execution_count": 63,
   "metadata": {
    "collapsed": false
   },
   "outputs": [
    {
     "data": {
      "text/plain": [
       "<seaborn.axisgrid.JointGrid at 0xb8ddcc0>"
      ]
     },
     "execution_count": 63,
     "metadata": {},
     "output_type": "execute_result"
    },
    {
     "data": {
      "image/png": "[encoded data removed]",
      "text/plain": [
       "<matplotlib.figure.Figure at 0xb875d68>"
      ]
     },
     "metadata": {},
     "output_type": "display_data"
    },
    {
     "data": {
      "image/png": "[encoded data removed]",
      "text/plain": [
       "<matplotlib.figure.Figure at 0xb8ddda0>"
      ]
     },
     "metadata": {},
     "output_type": "display_data"
    }
   ],
   "source": [
    "sns.jointplot(x='w_PPG',y='Wscore',data=tgames2015)\n",
    "sns.jointplot(x='l_PPG',y='Lscore',data=tgames2015)"
   ]
  },
  {
   "cell_type": "code",
   "execution_count": null,
   "metadata": {
    "collapsed": true
   },
   "outputs": [],
   "source": []
  },
  {
   "cell_type": "markdown",
   "metadata": {},
   "source": [
    "### RegularSeasonDetailedResults\n",
    "\n",
    "This file is a more detailed set of game results, covering seasons 2003-2015. This includes team-level total statistics for each game (total field goals attempted, offensive rebounds, etc.) The column names should be self-explanatory to basketball fans (as above, \"w\" or \"l\" refers to the winning or losing team):\n",
    "\n",
    "* wfgm - field goals made\n",
    "* wfga - field goals attempted\n",
    "* wfgm3 - three pointers made\n",
    "* wfga3 - three pointers attempted\n",
    "* wftm - free throws made\n",
    "* wfta - free throws attempted\n",
    "* wor - offensive rebounds\n",
    "* wdr - defensive rebounds\n",
    "* wast - assists\n",
    "* wto - turnovers\n",
    "* wstl - steals\n",
    "* wblk - blocks\n",
    "* wpf - personal fouls"
   ]
  },
  {
   "cell_type": "code",
   "execution_count": null,
   "metadata": {
    "collapsed": true
   },
   "outputs": [],
   "source": [
    "reg_season_dtl = pd.read_csv('RegularSeasonDetailedResults.csv')"
   ]
  },
  {
   "cell_type": "code",
   "execution_count": null,
   "metadata": {
    "collapsed": false
   },
   "outputs": [],
   "source": [
    "tourney_seeds.Seed.unique()"
   ]
  },
  {
   "cell_type": "code",
   "execution_count": null,
   "metadata": {
    "collapsed": false
   },
   "outputs": [],
   "source": [
    "sval = tourney_seeds[(tourney_seeds.Season==2014) & (tourney_seeds.Team==1277)].Seed.values[0]\n",
    "sval[0], sval[1:]"
   ]
  },
  {
   "cell_type": "code",
   "execution_count": null,
   "metadata": {
    "collapsed": false
   },
   "outputs": [],
   "source": [
    "yield_region_seed(tourney_seeds,1112,2014), all_teams[all_teams.Team_Id==1112]"
   ]
  },
  {
   "cell_type": "code",
   "execution_count": null,
   "metadata": {
    "collapsed": false
   },
   "outputs": [],
   "source": [
    "\n",
    "    "
   ]
  },
  {
   "cell_type": "raw",
   "metadata": {},
   "source": [
    "### Tourney Compact"
   ]
  },
  {
   "cell_type": "code",
   "execution_count": null,
   "metadata": {
    "collapsed": true
   },
   "outputs": [],
   "source": []
  },
  {
   "cell_type": "code",
   "execution_count": null,
   "metadata": {
    "collapsed": false
   },
   "outputs": [],
   "source": [
    "tourney_comp.head()"
   ]
  },
  {
   "cell_type": "markdown",
   "metadata": {},
   "source": [
    "### TourneySeeds\n",
    "\n",
    "This file identifies the seeds for all teams in each NCAA tournament, for all seasons of historical data. Thus, there are between 64-68 rows for each year, depending on the bracket structure.\n",
    "\n",
    "* \"season\" - the year\n",
    "* \"seed\" - this is a 3/4-character identifier of the seed, where the first character is either W, X, Y, or Z (identifying the region the team was in) and the next two digits (either 01, 02, ..., 15, or 16) tells you the seed within the region. For play-in teams, there is a fourth character (a or b) to further distinguish the seeds, since teams that face each other in the play-in games will have the same first three characters. For example, the first record in the file is seed W01, which means we are looking at the #1 seed in the W region (which we can see from the \"seasons.csv\" file was the East region). This seed is also referenced in the \"tourney_slots.csv\" file that tells us which bracket slots face which other bracket slots in which rounds.\n",
    "* \"team\" - this identifies the id number of the team, as specified in the teams.csv file"
   ]
  },
  {
   "cell_type": "markdown",
   "metadata": {},
   "source": [
    "## now calculate the win percentage and adjusted win percentage"
   ]
  },
  {
   "cell_type": "markdown",
   "metadata": {},
   "source": [
    "### TourneySlots\n",
    "\n",
    "This file identifies the mechanism by which teams are paired against each other, depending upon their seeds. Because of the existence of play-in games for particular seed numbers, the pairings have small differences from year to year. If there were N teams in the tournament during a particular year, there were N-1 teams eliminated (leaving one champion) and therefore N-1 games played, as well as N-1 slots in the tournament bracket, and thus there will be N-1 records in this file for that season.\n",
    "\n",
    "* \"season\" - the year\n",
    "* \"slot\" - this uniquely identifies one of the tournament games. For play-in games, it is a three-character string identifying the seed fulfilled by the winning team, such as W16 or Z13. For regular tournament games, it is a four-character string, where the first two characters tell you which round the game is (R1, R2, R3, R4, R5, or R6) and the second two characters tell you the expected seed of the favored team. Thus the first row is R1W1, identifying the Round 1 game played in the W bracket, where the favored team is the 1 seed. As a further example, the R2W1 slot indicates the Round 2 game that would have the 1 seed from the W bracket, assuming that all favored teams have won up to that point. The slot names are different for the final two rounds, where R5WX identifies the national semifinal game between the winners of regions W and X, and R5YZ identifies the national semifinal game between the winners of regions Y and Z, and R6CH identifies the championship game. The \"slot\" value is used in other columns in order to represent the advancement and pairings of winners of previous games.\n",
    "* \"strongseed\" - this indicates the expected stronger-seeded team that plays in this game. For Round 1 games, a team seed is identified in this column (as listed in the \"seed\" column in the tourney_seeds.csv file), whereas for subsequent games, a slot is identified in this column. In the first record of this file (slot R1W1), we see that seed W01 is the \"strongseed\", which during the 1985 tournament would have been Georgetown. Whereas for games from Round 2 or later, rather than a team seed, we will see a \"slot\" referenced in this column. So in the 33rd record of this file (slot R2W1), it tells us that the winners of slots R1W1 and R1W8 will face each other in Round 2. Of course, in the last few games of the tournament - the national semifinals and finals - it's not really meaningful to talk about a \"strong seed\" or \"weak seed\", but those games are represented in the same format for the sake of uniformity.\n",
    "* \"weakseed\" - this indicates the expected weaker-seeded team that plays in this game, assuming all favored teams have won so far. For Round 1 games, a team seed is identified in this column (as listed in the \"seed\" column in the tourney_seeds.csv file), whereas for subsequent games, a slot is identified in this column."
   ]
  },
  {
   "cell_type": "markdown",
   "metadata": {},
   "source": [
    "## look at distribution of WP & aWP"
   ]
  },
  {
   "cell_type": "code",
   "execution_count": null,
   "metadata": {
    "collapsed": false
   },
   "outputs": [],
   "source": [
    "sns.distplot(t2015.WP,label='WP')\n",
    "sns.distplot(t2015.aWP,label='aWP')"
   ]
  },
  {
   "cell_type": "markdown",
   "metadata": {},
   "source": [
    "## load in the corresponding tournament info"
   ]
  },
  {
   "cell_type": "code",
   "execution_count": null,
   "metadata": {
    "collapsed": true
   },
   "outputs": [],
   "source": [
    "tourneyResults2015 = tourney_comp[tourney_comp['Season']==2015].copy()\n",
    "# for each of these 67 games plot the WP for winners & loosers"
   ]
  },
  {
   "cell_type": "code",
   "execution_count": null,
   "metadata": {
    "collapsed": false
   },
   "outputs": [],
   "source": [
    "t2015[t2015.Team_Id==1214][['WP','aWP']].values.ravel()"
   ]
  },
  {
   "cell_type": "code",
   "execution_count": null,
   "metadata": {
    "collapsed": false
   },
   "outputs": [],
   "source": [
    "get_pct(1214,t2015)"
   ]
  },
  {
   "cell_type": "code",
   "execution_count": null,
   "metadata": {
    "collapsed": false
   },
   "outputs": [],
   "source": [
    "tourneyResults2015.head()"
   ]
  },
  {
   "cell_type": "code",
   "execution_count": null,
   "metadata": {
    "collapsed": false
   },
   "outputs": [],
   "source": []
  },
  {
   "cell_type": "code",
   "execution_count": null,
   "metadata": {
    "collapsed": false
   },
   "outputs": [],
   "source": []
  },
  {
   "cell_type": "code",
   "execution_count": null,
   "metadata": {
    "collapsed": false
   },
   "outputs": [],
   "source": [
    "sns.distplot(tourneyResults2015.wteamWP)\n",
    "sns.distplot(tourneyResults2015.lteamWP)\n",
    "plt.title('2015 tourney game outcomes regSeason WP')"
   ]
  },
  {
   "cell_type": "code",
   "execution_count": null,
   "metadata": {
    "collapsed": false
   },
   "outputs": [],
   "source": [
    "sns.distplot(tourneyResults2015.wteam_aWP,label='winners AWP')\n",
    "sns.distplot(tourneyResults2015.lteam_aWP,label='loosers AWP')\n",
    "plt.title('2015 tourney game outcomes regSeason aWP')\n",
    "plt.legend()"
   ]
  },
  {
   "cell_type": "code",
   "execution_count": null,
   "metadata": {
    "collapsed": false
   },
   "outputs": [],
   "source": [
    "sns.regplot(x='wteam_aWP',y='wteamWP',data=tourneyResults2015)"
   ]
  },
  {
   "cell_type": "code",
   "execution_count": null,
   "metadata": {
    "collapsed": false
   },
   "outputs": [],
   "source": [
    "tR.values[0]"
   ]
  },
  {
   "cell_type": "markdown",
   "metadata": {},
   "source": [
    "* RPI = $0.25*WP + 0.5*OWP+ 0.25*OOWP$\n",
    "* OWP = opponent's winning percentage (omit games against you)\n",
    "* OOWP (Opponents’ Opponents’ Winning Percentage) is the average OWP of all your opponents. OWP is exactly the number computed in the previous step."
   ]
  },
  {
   "cell_type": "markdown",
   "metadata": {},
   "source": [
    "## now calculate the OOWP"
   ]
  },
  {
   "cell_type": "code",
   "execution_count": null,
   "metadata": {
    "collapsed": true
   },
   "outputs": [],
   "source": [
    "\n"
   ]
  },
  {
   "cell_type": "code",
   "execution_count": null,
   "metadata": {
    "collapsed": false
   },
   "outputs": [],
   "source": []
  },
  {
   "cell_type": "code",
   "execution_count": null,
   "metadata": {
    "collapsed": false
   },
   "outputs": [],
   "source": [
    "sns.jointplot(x='aWP',y='OOWP',data=t2015)"
   ]
  },
  {
   "cell_type": "markdown",
   "metadata": {},
   "source": [
    "## calculate RPI"
   ]
  },
  {
   "cell_type": "code",
   "execution_count": null,
   "metadata": {
    "collapsed": true
   },
   "outputs": [],
   "source": []
  },
  {
   "cell_type": "code",
   "execution_count": null,
   "metadata": {
    "collapsed": false
   },
   "outputs": [],
   "source": []
  },
  {
   "cell_type": "code",
   "execution_count": null,
   "metadata": {
    "collapsed": false
   },
   "outputs": [],
   "source": [
    "sns.jointplot(x='aWP',y='RPI',data=t2015)"
   ]
  },
  {
   "cell_type": "code",
   "execution_count": null,
   "metadata": {
    "collapsed": false
   },
   "outputs": [],
   "source": [
    "t2015.sort_values(by='RPI',ascending=False)"
   ]
  },
  {
   "cell_type": "code",
   "execution_count": null,
   "metadata": {
    "collapsed": false
   },
   "outputs": [],
   "source": [
    "tourney_seeds = pd.read_csv('TourneySeeds.csv')\n",
    "tourney_seeds.head()"
   ]
  },
  {
   "cell_type": "code",
   "execution_count": null,
   "metadata": {
    "collapsed": true
   },
   "outputs": [],
   "source": [
    "tourney_teams_2015 = tourney_seeds[tourney_seeds['Season']==2015].Team.tolist()\n"
   ]
  },
  {
   "cell_type": "code",
   "execution_count": null,
   "metadata": {
    "collapsed": false
   },
   "outputs": [],
   "source": [
    "t2015['tourney'] = 0\n",
    "#t2015['tourney'].iloc[t2015[t2015.Team_Id.isin(tourney_teams_2015)]\n",
    "#t2015.iloc[t2015.Team_Id.isin(tourney_teams_2015),'tourney']=1\n",
    "t2015.loc[t2015[t2015.Team_Id.isin(tourney_teams_2015)].index.tolist(),'tourney']=1\n",
    "t2015.tourney.value_counts()"
   ]
  },
  {
   "cell_type": "code",
   "execution_count": null,
   "metadata": {
    "collapsed": false
   },
   "outputs": [],
   "source": [
    "sns.boxplot(x='tourney',y='RPI',data=t2015)"
   ]
  },
  {
   "cell_type": "code",
   "execution_count": null,
   "metadata": {
    "collapsed": false
   },
   "outputs": [],
   "source": [
    "sns.distplot(t2015[t2015.tourney==1].RPI,hist=False,label='dancing')\n",
    "sns.distplot(t2015[t2015.tourney==0].RPI,hist=False,label='Not dancing')"
   ]
  },
  {
   "cell_type": "code",
   "execution_count": null,
   "metadata": {
    "collapsed": true
   },
   "outputs": [],
   "source": [
    "tourneyResults2015['wteam_RPI'] = tourneyResults2015['Wteam'].apply(lambda x: get_pct(x,t2015,'RPI'))#.head()\n",
    "tourneyResults2015['lteam_RPI'] = tourneyResults2015['Lteam'].apply(lambda x: get_pct(x,t2015,'RPI'))#.head()"
   ]
  },
  {
   "cell_type": "code",
   "execution_count": null,
   "metadata": {
    "collapsed": false
   },
   "outputs": [],
   "source": [
    "sns.distplot(tourneyResults2015.wteam_RPI,label='winners RPI',hist=False)\n",
    "sns.distplot(tourneyResults2015.lteam_RPI,label='loosers RPI',hist=False)\n",
    "plt.title('2015 tourney game outcomes regSeason RPI')\n",
    "plt.legend()"
   ]
  },
  {
   "cell_type": "code",
   "execution_count": null,
   "metadata": {
    "collapsed": false
   },
   "outputs": [],
   "source": [
    "tourneyResults2015.tail(10)"
   ]
  },
  {
   "cell_type": "code",
   "execution_count": null,
   "metadata": {
    "collapsed": false
   },
   "outputs": [],
   "source": [
    "(tourneyResults2015['wteam_RPI']-tourneyResults2015['lteam_RPI']).hist(bins=30)"
   ]
  },
  {
   "cell_type": "code",
   "execution_count": null,
   "metadata": {
    "collapsed": false
   },
   "outputs": [],
   "source": [
    "(tourneyResults2015['wteam_aWP']-tourneyResults2015['lteam_aWP']).hist(bins=30)"
   ]
  },
  {
   "cell_type": "code",
   "execution_count": null,
   "metadata": {
    "collapsed": false
   },
   "outputs": [],
   "source": [
    "t2015.sort_values(by='RPI')"
   ]
  },
  {
   "cell_type": "code",
   "execution_count": null,
   "metadata": {
    "collapsed": false
   },
   "outputs": [],
   "source": [
    "len(t2015)"
   ]
  },
  {
   "cell_type": "code",
   "execution_count": null,
   "metadata": {
    "collapsed": true
   },
   "outputs": [],
   "source": [
    "def rank_teams(teams,col='RPI'):\n",
    "    teams[col+'_rank']=0\n",
    "    nteams = len(teams)\n",
    "    my_ranks = np.arange(nteams,0,-1)\n",
    "    trank = teams[col].argsort()\n",
    "    teams.loc[trank.values,col+'_rank']=my_ranks\n",
    "    return teams"
   ]
  },
  {
   "cell_type": "code",
   "execution_count": null,
   "metadata": {
    "collapsed": false
   },
   "outputs": [],
   "source": [
    "my_ranks = np.arange(len(t2015),0,-1)\n",
    "#t2015.ix[trank.values]#['RPI_my_ranks"
   ]
  },
  {
   "cell_type": "code",
   "execution_count": null,
   "metadata": {
    "collapsed": true
   },
   "outputs": [],
   "source": [
    "t2015['rpi_rank']=0"
   ]
  },
  {
   "cell_type": "code",
   "execution_count": null,
   "metadata": {
    "collapsed": false
   },
   "outputs": [],
   "source": [
    "trank = t2015.RPI.argsort()\n",
    "t2015.loc[trank.values]['rpi_rank'] = my_ranks\n",
    "t2015.head()"
   ]
  },
  {
   "cell_type": "code",
   "execution_count": null,
   "metadata": {
    "collapsed": false
   },
   "outputs": [],
   "source": [
    "t2015.loc[trank.values,'rpi_rank']=my_ranks"
   ]
  },
  {
   "cell_type": "code",
   "execution_count": null,
   "metadata": {
    "collapsed": false
   },
   "outputs": [],
   "source": [
    "t2015"
   ]
  },
  {
   "cell_type": "code",
   "execution_count": null,
   "metadata": {
    "collapsed": false
   },
   "outputs": [],
   "source": [
    "dcolors = {0:'indianred',1:'steelblue'}\n",
    "plt.scatter(t2015.rpi_rank,t2015.WP,color=[dcolors[a] for a in t2015.tourney.tolist()])\n",
    "plt.xlabel('RPI Rank')\n",
    "plt.ylabel('WP')"
   ]
  },
  {
   "cell_type": "markdown",
   "metadata": {},
   "source": [
    "## other features I might want:\n",
    "* record in last 10 games\n",
    "* rematches?\n",
    "* margin of victory\n",
    "* others from detailed season"
   ]
  },
  {
   "cell_type": "code",
   "execution_count": null,
   "metadata": {
    "collapsed": false
   },
   "outputs": [],
   "source": [
    "t2015.head()"
   ]
  },
  {
   "cell_type": "code",
   "execution_count": null,
   "metadata": {
    "collapsed": false
   },
   "outputs": [],
   "source": [
    "[name for name in t2015.Team_Name.tolist() if name.endswith('St')]"
   ]
  },
  {
   "cell_type": "code",
   "execution_count": null,
   "metadata": {
    "collapsed": false
   },
   "outputs": [],
   "source": [
    "return_team_id(t2015,'Michigan St.')"
   ]
  },
  {
   "cell_type": "code",
   "execution_count": null,
   "metadata": {
    "collapsed": true
   },
   "outputs": [],
   "source": [
    "\n",
    "    \n",
    "    \n",
    "    "
   ]
  },
  {
   "cell_type": "code",
   "execution_count": null,
   "metadata": {
    "collapsed": false
   },
   "outputs": [],
   "source": [
    "#reg_season_comp[(reg_season_comp.Season==2016)*reg_season_comp.Wteam==1277].plot(x='Wscore',y='Lscore',kind='scatter')#.mean()\n",
    "#reg_season_comp[(reg_season_comp.Season==2016)*reg_season_comp.Lteam==1277].plot(x='Wscore',y='Lscore',kind='scatter',color='indianred')#.mean()"
   ]
  },
  {
   "cell_type": "code",
   "execution_count": null,
   "metadata": {
    "collapsed": true
   },
   "outputs": [],
   "source": []
  },
  {
   "cell_type": "code",
   "execution_count": null,
   "metadata": {
    "collapsed": false
   },
   "outputs": [],
   "source": [
    "reg_season_dtl[(reg_season_dtl.Season==2016)&(reg_season_dtl.Wteam==1277)]"
   ]
  },
  {
   "cell_type": "code",
   "execution_count": null,
   "metadata": {
    "collapsed": true
   },
   "outputs": [],
   "source": []
  },
  {
   "cell_type": "code",
   "execution_count": null,
   "metadata": {
    "collapsed": false
   },
   "outputs": [],
   "source": [
    "t2015.head()"
   ]
  },
  {
   "cell_type": "code",
   "execution_count": null,
   "metadata": {
    "collapsed": false
   },
   "outputs": [],
   "source": [
    "sns.boxplot(x='tourney',y='PPG',data=t2015)"
   ]
  },
  {
   "cell_type": "markdown",
   "metadata": {},
   "source": [
    "# calculate scoring margin"
   ]
  },
  {
   "cell_type": "code",
   "execution_count": null,
   "metadata": {
    "collapsed": false
   },
   "outputs": [],
   "source": [
    "\n",
    "sns.distplot(t2015.scoreMargin)"
   ]
  },
  {
   "cell_type": "code",
   "execution_count": null,
   "metadata": {
    "collapsed": false
   },
   "outputs": [],
   "source": [
    "sns.jointplot(x='RPI',y='scoreMargin',data=t2015)"
   ]
  },
  {
   "cell_type": "code",
   "execution_count": null,
   "metadata": {
    "collapsed": false
   },
   "outputs": [],
   "source": [
    "t2015.sort_values(by='PPG',ascending=False)"
   ]
  },
  {
   "cell_type": "markdown",
   "metadata": {},
   "source": [
    "## add this to the tourney results 2015"
   ]
  },
  {
   "cell_type": "code",
   "execution_count": null,
   "metadata": {
    "collapsed": true
   },
   "outputs": [],
   "source": [
    "tourneyResults2015['w_scoreMarg'] = tourneyResults2015['Wteam'].apply(lambda x: get_pct(x,t2015,'scoreMargin'))#.head()\n",
    "tourneyResults2015['l_scoreMarg'] = tourneyResults2015['Lteam'].apply(lambda x: get_pct(x,t2015,'scoreMargin'))#.head()"
   ]
  },
  {
   "cell_type": "code",
   "execution_count": null,
   "metadata": {
    "collapsed": false
   },
   "outputs": [],
   "source": [
    "sns.distplot(tourneyResults2015.w_scoreMarg,label='winners')\n",
    "sns.distplot(tourneyResults2015.l_scoreMarg,label='loosers')"
   ]
  },
  {
   "cell_type": "code",
   "execution_count": null,
   "metadata": {
    "collapsed": false
   },
   "outputs": [],
   "source": [
    "sns.jointplot(tourneyResults2015.w_scoreMarg,tourneyResults2015.wteam_aWP)"
   ]
  },
  {
   "cell_type": "markdown",
   "metadata": {},
   "source": [
    "## Question does performance against other teams in the tourney correlate with success?"
   ]
  },
  {
   "cell_type": "markdown",
   "metadata": {},
   "source": [
    "## need to generate some attributes for different years and the train on them"
   ]
  },
  {
   "cell_type": "code",
   "execution_count": null,
   "metadata": {
    "collapsed": true
   },
   "outputs": [],
   "source": []
  }
 ],
 "metadata": {
  "kernelspec": {
   "display_name": "Python 3",
   "language": "python",
   "name": "python3"
  },
  "language_info": {
   "codemirror_mode": {
    "name": "ipython",
    "version": 3
   },
   "file_extension": ".py",
   "mimetype": "text/x-python",
   "name": "python",
   "nbconvert_exporter": "python",
   "pygments_lexer": "ipython3",
   "version": "3.5.1"
  }
 },
 "nbformat": 4,
 "nbformat_minor": 0
}
